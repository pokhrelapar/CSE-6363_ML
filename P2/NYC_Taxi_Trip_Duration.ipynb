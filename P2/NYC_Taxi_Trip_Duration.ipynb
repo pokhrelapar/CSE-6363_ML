{
 "cells": [
  {
   "cell_type": "markdown",
   "metadata": {},
   "source": [
    "# Class Files"
   ]
  },
  {
   "cell_type": "code",
   "execution_count": 2,
   "metadata": {},
   "outputs": [],
   "source": [
    "from classes import Layer, Linear, Sequential, Sigmoid, Tanh, ReLU, BinaryCrossEntropyLoss\n",
    "\n"
   ]
  },
  {
   "cell_type": "markdown",
   "metadata": {},
   "source": [
    "# NYC Dataset"
   ]
  },
  {
   "cell_type": "code",
   "execution_count": 2,
   "metadata": {},
   "outputs": [],
   "source": [
    "import numpy as np\n",
    "import matplotlib.pyplot as plt\n",
    "from abc import ABC, abstractmethod\n",
    "import pandas as pd\n",
    "import seaborn as sns\n",
    "import plotly.express as px\n",
    "import os\n",
    "\n",
    "from sklearn.model_selection import train_test_split \n",
    "\n",
    "import warnings\n",
    "warnings.filterwarnings('ignore')\n",
    "\n"
   ]
  },
  {
   "cell_type": "markdown",
   "metadata": {},
   "source": [
    "## Load Dataset"
   ]
  },
  {
   "cell_type": "code",
   "execution_count": 3,
   "metadata": {},
   "outputs": [
    {
     "name": "stdout",
     "output_type": "stream",
     "text": [
      "(1312779, 10)\n",
      "(1312779,)\n",
      "-----\n",
      "(145865, 10)\n",
      "(145865,)\n"
     ]
    }
   ],
   "source": [
    "\n",
    "dataset = np.load(\"nyc_taxi_data.npy\", allow_pickle=True).item()\n",
    "\n",
    "X_train, y_train, X_test, y_test = dataset[\"X_train\"], dataset[\"y_train\"], dataset[\"X_test\"], dataset[\"y_test\"]\n",
    "\n",
    "\n",
    "print(X_train.shape)\n",
    "print(y_train.shape)\n",
    "\n",
    "print('-----')\n",
    "print(X_test.shape)\n",
    "print(y_test.shape)"
   ]
  },
  {
   "cell_type": "markdown",
   "metadata": {},
   "source": [
    "## Cleaning train dataset"
   ]
  },
  {
   "cell_type": "code",
   "execution_count": 4,
   "metadata": {},
   "outputs": [
    {
     "data": {
      "text/plain": [
       "id                     object\n",
       "vendor_id               int64\n",
       "pickup_datetime        object\n",
       "dropoff_datetime       object\n",
       "passenger_count         int64\n",
       "pickup_longitude      float64\n",
       "pickup_latitude       float64\n",
       "dropoff_longitude     float64\n",
       "dropoff_latitude      float64\n",
       "store_and_fwd_flag     object\n",
       "dtype: object"
      ]
     },
     "execution_count": 4,
     "metadata": {},
     "output_type": "execute_result"
    }
   ],
   "source": [
    "X_train_pd = pd.DataFrame(X_train)\n",
    "X_train_pd.dtypes"
   ]
  },
  {
   "cell_type": "code",
   "execution_count": 5,
   "metadata": {},
   "outputs": [
    {
     "data": {
      "text/plain": [
       "trip_duration    int64\n",
       "dtype: object"
      ]
     },
     "execution_count": 5,
     "metadata": {},
     "output_type": "execute_result"
    }
   ],
   "source": [
    "y_train_pd = pd.DataFrame(y_train)\n",
    "\n",
    "y_train_pd.dtypes"
   ]
  },
  {
   "cell_type": "markdown",
   "metadata": {},
   "source": [
    "### Concatenate x-train & y-train"
   ]
  },
  {
   "cell_type": "code",
   "execution_count": 6,
   "metadata": {},
   "outputs": [
    {
     "data": {
      "text/html": [
       "<div>\n",
       "<style scoped>\n",
       "    .dataframe tbody tr th:only-of-type {\n",
       "        vertical-align: middle;\n",
       "    }\n",
       "\n",
       "    .dataframe tbody tr th {\n",
       "        vertical-align: top;\n",
       "    }\n",
       "\n",
       "    .dataframe thead th {\n",
       "        text-align: right;\n",
       "    }\n",
       "</style>\n",
       "<table border=\"1\" class=\"dataframe\">\n",
       "  <thead>\n",
       "    <tr style=\"text-align: right;\">\n",
       "      <th></th>\n",
       "      <th>id</th>\n",
       "      <th>vendor_id</th>\n",
       "      <th>pickup_datetime</th>\n",
       "      <th>dropoff_datetime</th>\n",
       "      <th>passenger_count</th>\n",
       "      <th>pickup_longitude</th>\n",
       "      <th>pickup_latitude</th>\n",
       "      <th>dropoff_longitude</th>\n",
       "      <th>dropoff_latitude</th>\n",
       "      <th>store_and_fwd_flag</th>\n",
       "      <th>trip_duration</th>\n",
       "    </tr>\n",
       "  </thead>\n",
       "  <tbody>\n",
       "    <tr>\n",
       "      <th>879655</th>\n",
       "      <td>id2425795</td>\n",
       "      <td>1</td>\n",
       "      <td>2016-01-08 23:55:11</td>\n",
       "      <td>2016-01-09 00:04:32</td>\n",
       "      <td>1</td>\n",
       "      <td>-73.955551</td>\n",
       "      <td>40.773346</td>\n",
       "      <td>-73.973640</td>\n",
       "      <td>40.763500</td>\n",
       "      <td>N</td>\n",
       "      <td>561</td>\n",
       "    </tr>\n",
       "    <tr>\n",
       "      <th>646838</th>\n",
       "      <td>id0767831</td>\n",
       "      <td>2</td>\n",
       "      <td>2016-03-05 09:52:06</td>\n",
       "      <td>2016-03-05 10:00:12</td>\n",
       "      <td>1</td>\n",
       "      <td>-73.962181</td>\n",
       "      <td>40.763599</td>\n",
       "      <td>-73.980377</td>\n",
       "      <td>40.764919</td>\n",
       "      <td>N</td>\n",
       "      <td>486</td>\n",
       "    </tr>\n",
       "    <tr>\n",
       "      <th>1138713</th>\n",
       "      <td>id0449104</td>\n",
       "      <td>1</td>\n",
       "      <td>2016-04-09 16:03:53</td>\n",
       "      <td>2016-04-09 16:21:22</td>\n",
       "      <td>1</td>\n",
       "      <td>-73.977486</td>\n",
       "      <td>40.751842</td>\n",
       "      <td>-74.011688</td>\n",
       "      <td>40.718925</td>\n",
       "      <td>N</td>\n",
       "      <td>1049</td>\n",
       "    </tr>\n",
       "    <tr>\n",
       "      <th>864716</th>\n",
       "      <td>id3030157</td>\n",
       "      <td>1</td>\n",
       "      <td>2016-01-06 11:12:44</td>\n",
       "      <td>2016-01-06 11:19:49</td>\n",
       "      <td>1</td>\n",
       "      <td>-73.970001</td>\n",
       "      <td>40.762363</td>\n",
       "      <td>-73.963264</td>\n",
       "      <td>40.774666</td>\n",
       "      <td>N</td>\n",
       "      <td>425</td>\n",
       "    </tr>\n",
       "    <tr>\n",
       "      <th>434927</th>\n",
       "      <td>id1584885</td>\n",
       "      <td>1</td>\n",
       "      <td>2016-06-26 09:10:56</td>\n",
       "      <td>2016-06-26 09:17:44</td>\n",
       "      <td>1</td>\n",
       "      <td>-73.950348</td>\n",
       "      <td>40.771561</td>\n",
       "      <td>-73.968178</td>\n",
       "      <td>40.762409</td>\n",
       "      <td>N</td>\n",
       "      <td>408</td>\n",
       "    </tr>\n",
       "  </tbody>\n",
       "</table>\n",
       "</div>"
      ],
      "text/plain": [
       "                id  vendor_id      pickup_datetime     dropoff_datetime  \\\n",
       "879655   id2425795          1  2016-01-08 23:55:11  2016-01-09 00:04:32   \n",
       "646838   id0767831          2  2016-03-05 09:52:06  2016-03-05 10:00:12   \n",
       "1138713  id0449104          1  2016-04-09 16:03:53  2016-04-09 16:21:22   \n",
       "864716   id3030157          1  2016-01-06 11:12:44  2016-01-06 11:19:49   \n",
       "434927   id1584885          1  2016-06-26 09:10:56  2016-06-26 09:17:44   \n",
       "\n",
       "         passenger_count  pickup_longitude  pickup_latitude  \\\n",
       "879655                 1        -73.955551        40.773346   \n",
       "646838                 1        -73.962181        40.763599   \n",
       "1138713                1        -73.977486        40.751842   \n",
       "864716                 1        -73.970001        40.762363   \n",
       "434927                 1        -73.950348        40.771561   \n",
       "\n",
       "         dropoff_longitude  dropoff_latitude store_and_fwd_flag  trip_duration  \n",
       "879655          -73.973640         40.763500                  N            561  \n",
       "646838          -73.980377         40.764919                  N            486  \n",
       "1138713         -74.011688         40.718925                  N           1049  \n",
       "864716          -73.963264         40.774666                  N            425  \n",
       "434927          -73.968178         40.762409                  N            408  "
      ]
     },
     "execution_count": 6,
     "metadata": {},
     "output_type": "execute_result"
    }
   ],
   "source": [
    "x_new_pd = pd.concat([X_train_pd,y_train_pd],axis =1)\n",
    "\n",
    "x_new_pd.head()\n",
    "\n",
    "x_new_pd.shape\n",
    "\n",
    "x_new_pd.head()\n"
   ]
  },
  {
   "cell_type": "markdown",
   "metadata": {},
   "source": [
    "### Check for null"
   ]
  },
  {
   "cell_type": "code",
   "execution_count": 7,
   "metadata": {},
   "outputs": [
    {
     "data": {
      "text/plain": [
       "id                    0\n",
       "vendor_id             0\n",
       "pickup_datetime       0\n",
       "dropoff_datetime      0\n",
       "passenger_count       0\n",
       "pickup_longitude      0\n",
       "pickup_latitude       0\n",
       "dropoff_longitude     0\n",
       "dropoff_latitude      0\n",
       "store_and_fwd_flag    0\n",
       "trip_duration         0\n",
       "dtype: int64"
      ]
     },
     "execution_count": 7,
     "metadata": {},
     "output_type": "execute_result"
    }
   ],
   "source": [
    "x_new_pd.isnull().sum()"
   ]
  },
  {
   "cell_type": "markdown",
   "metadata": {},
   "source": [
    "### Preprocessing functions"
   ]
  },
  {
   "cell_type": "code",
   "execution_count": 8,
   "metadata": {},
   "outputs": [],
   "source": [
    "def time_of_day(x):\n",
    "    if x in range(6,12): return 'Morning'\n",
    "    elif x in range(12, 16): return 'Afternoon'\n",
    "    elif x in range(16,22): return 'Evening'\n",
    "    else: return 'Night'\n",
    "    \n",
    "def haversine_distance(lat1, lon1, lat2, lon2):\n",
    "    \"\"\"\n",
    "    Calculate the haversine distance between two points on the earth.\n",
    "    \n",
    "    Parameters:\n",
    "    lat1, lon1: float. Latitude and longitude of the first point.\n",
    "    lat2, lon2: float. Latitude and longitude of the second point.\n",
    "    \n",
    "    Returns:\n",
    "    float. Distance in kilometers.\n",
    "    \"\"\"\n",
    "    # Convert degrees to radians\n",
    "    lat1, lon1, lat2, lon2 = map(np.radians, [lat1, lon1, lat2, lon2])\n",
    "\n",
    "    # Haversine formula\n",
    "    dlat = lat2 - lat1\n",
    "    dlon = lon2 - lon1\n",
    "    a = np.sin(dlat / 2)**2 + np.cos(lat1) * np.cos(lat2) * np.sin(dlon / 2)**2\n",
    "    c = 2 * np.arcsin(np.sqrt(a))\n",
    "    distance = 6371 * c  # Earth's radius in kilometers\n",
    "    return distance\n"
   ]
  },
  {
   "cell_type": "code",
   "execution_count": 9,
   "metadata": {},
   "outputs": [],
   "source": [
    "def pre_process_features(df):\n",
    "    \n",
    "    df['pickup_datetime'] =  pd.to_datetime(df['pickup_datetime'])\n",
    "    df['dropoff_datetime'] = pd.to_datetime(df['dropoff_datetime'])\n",
    "    \n",
    "    df['pickup_hour'] = df['pickup_datetime'].dt.hour\n",
    "    df['dropoff_hour'] = df['dropoff_datetime'].dt.hour\n",
    "    \n",
    "    df['pickup_timeofday']=df['pickup_hour'].apply(time_of_day)\n",
    "    df['dropoff_timeofday']=df['dropoff_hour'].apply(time_of_day)\n",
    "    \n",
    "\n",
    "    df['pickup_day'] = df['pickup_datetime'].dt.day\n",
    "    df['dropoff_day'] = df['dropoff_datetime'].dt.day\n",
    "    \n",
    "    \n",
    "    df['pickup_month'] = df['pickup_datetime'].dt.month\n",
    "    df['dropoff_month'] = df['dropoff_datetime'].dt.month\n",
    "    \n",
    "    df['pickup_weekday'] = df['pickup_datetime'].dt.weekday\n",
    "    df['dropoff_weekday'] = df['dropoff_datetime'].dt.weekday\n",
    "    \n",
    "    df['calc_trip_duration'] = (df['dropoff_datetime'] - df['pickup_datetime']).dt.total_seconds()\n",
    "\n",
    "    df['trip_distance'] = haversine_distance(\n",
    "        df['pickup_latitude'], df['pickup_longitude'],\n",
    "        df['dropoff_latitude'], df['dropoff_longitude']\n",
    "    )\n",
    "\n",
    "    return df\n"
   ]
  },
  {
   "cell_type": "markdown",
   "metadata": {},
   "source": [
    "### Pre-process train set"
   ]
  },
  {
   "cell_type": "code",
   "execution_count": 10,
   "metadata": {},
   "outputs": [
    {
     "data": {
      "text/html": [
       "<div>\n",
       "<style scoped>\n",
       "    .dataframe tbody tr th:only-of-type {\n",
       "        vertical-align: middle;\n",
       "    }\n",
       "\n",
       "    .dataframe tbody tr th {\n",
       "        vertical-align: top;\n",
       "    }\n",
       "\n",
       "    .dataframe thead th {\n",
       "        text-align: right;\n",
       "    }\n",
       "</style>\n",
       "<table border=\"1\" class=\"dataframe\">\n",
       "  <thead>\n",
       "    <tr style=\"text-align: right;\">\n",
       "      <th></th>\n",
       "      <th>id</th>\n",
       "      <th>vendor_id</th>\n",
       "      <th>pickup_datetime</th>\n",
       "      <th>dropoff_datetime</th>\n",
       "      <th>passenger_count</th>\n",
       "      <th>pickup_longitude</th>\n",
       "      <th>pickup_latitude</th>\n",
       "      <th>dropoff_longitude</th>\n",
       "      <th>dropoff_latitude</th>\n",
       "      <th>store_and_fwd_flag</th>\n",
       "      <th>trip_duration</th>\n",
       "      <th>pickup_hour</th>\n",
       "      <th>dropoff_hour</th>\n",
       "      <th>pickup_timeofday</th>\n",
       "      <th>dropoff_timeofday</th>\n",
       "      <th>pickup_day</th>\n",
       "      <th>dropoff_day</th>\n",
       "      <th>pickup_month</th>\n",
       "      <th>dropoff_month</th>\n",
       "      <th>pickup_weekday</th>\n",
       "      <th>dropoff_weekday</th>\n",
       "      <th>calc_trip_duration</th>\n",
       "      <th>trip_distance</th>\n",
       "    </tr>\n",
       "  </thead>\n",
       "  <tbody>\n",
       "    <tr>\n",
       "      <th>879655</th>\n",
       "      <td>id2425795</td>\n",
       "      <td>1</td>\n",
       "      <td>2016-01-08 23:55:11</td>\n",
       "      <td>2016-01-09 00:04:32</td>\n",
       "      <td>1</td>\n",
       "      <td>-73.955551</td>\n",
       "      <td>40.773346</td>\n",
       "      <td>-73.973640</td>\n",
       "      <td>40.763500</td>\n",
       "      <td>N</td>\n",
       "      <td>561</td>\n",
       "      <td>23</td>\n",
       "      <td>0</td>\n",
       "      <td>Night</td>\n",
       "      <td>Night</td>\n",
       "      <td>8</td>\n",
       "      <td>9</td>\n",
       "      <td>1</td>\n",
       "      <td>1</td>\n",
       "      <td>4</td>\n",
       "      <td>5</td>\n",
       "      <td>561.0</td>\n",
       "      <td>1.875964</td>\n",
       "    </tr>\n",
       "    <tr>\n",
       "      <th>646838</th>\n",
       "      <td>id0767831</td>\n",
       "      <td>2</td>\n",
       "      <td>2016-03-05 09:52:06</td>\n",
       "      <td>2016-03-05 10:00:12</td>\n",
       "      <td>1</td>\n",
       "      <td>-73.962181</td>\n",
       "      <td>40.763599</td>\n",
       "      <td>-73.980377</td>\n",
       "      <td>40.764919</td>\n",
       "      <td>N</td>\n",
       "      <td>486</td>\n",
       "      <td>9</td>\n",
       "      <td>10</td>\n",
       "      <td>Morning</td>\n",
       "      <td>Morning</td>\n",
       "      <td>5</td>\n",
       "      <td>5</td>\n",
       "      <td>3</td>\n",
       "      <td>3</td>\n",
       "      <td>5</td>\n",
       "      <td>5</td>\n",
       "      <td>486.0</td>\n",
       "      <td>1.539475</td>\n",
       "    </tr>\n",
       "    <tr>\n",
       "      <th>1138713</th>\n",
       "      <td>id0449104</td>\n",
       "      <td>1</td>\n",
       "      <td>2016-04-09 16:03:53</td>\n",
       "      <td>2016-04-09 16:21:22</td>\n",
       "      <td>1</td>\n",
       "      <td>-73.977486</td>\n",
       "      <td>40.751842</td>\n",
       "      <td>-74.011688</td>\n",
       "      <td>40.718925</td>\n",
       "      <td>N</td>\n",
       "      <td>1049</td>\n",
       "      <td>16</td>\n",
       "      <td>16</td>\n",
       "      <td>Evening</td>\n",
       "      <td>Evening</td>\n",
       "      <td>9</td>\n",
       "      <td>9</td>\n",
       "      <td>4</td>\n",
       "      <td>4</td>\n",
       "      <td>5</td>\n",
       "      <td>5</td>\n",
       "      <td>1049.0</td>\n",
       "      <td>4.658508</td>\n",
       "    </tr>\n",
       "    <tr>\n",
       "      <th>864716</th>\n",
       "      <td>id3030157</td>\n",
       "      <td>1</td>\n",
       "      <td>2016-01-06 11:12:44</td>\n",
       "      <td>2016-01-06 11:19:49</td>\n",
       "      <td>1</td>\n",
       "      <td>-73.970001</td>\n",
       "      <td>40.762363</td>\n",
       "      <td>-73.963264</td>\n",
       "      <td>40.774666</td>\n",
       "      <td>N</td>\n",
       "      <td>425</td>\n",
       "      <td>11</td>\n",
       "      <td>11</td>\n",
       "      <td>Morning</td>\n",
       "      <td>Morning</td>\n",
       "      <td>6</td>\n",
       "      <td>6</td>\n",
       "      <td>1</td>\n",
       "      <td>1</td>\n",
       "      <td>2</td>\n",
       "      <td>2</td>\n",
       "      <td>425.0</td>\n",
       "      <td>1.480942</td>\n",
       "    </tr>\n",
       "    <tr>\n",
       "      <th>434927</th>\n",
       "      <td>id1584885</td>\n",
       "      <td>1</td>\n",
       "      <td>2016-06-26 09:10:56</td>\n",
       "      <td>2016-06-26 09:17:44</td>\n",
       "      <td>1</td>\n",
       "      <td>-73.950348</td>\n",
       "      <td>40.771561</td>\n",
       "      <td>-73.968178</td>\n",
       "      <td>40.762409</td>\n",
       "      <td>N</td>\n",
       "      <td>408</td>\n",
       "      <td>9</td>\n",
       "      <td>9</td>\n",
       "      <td>Morning</td>\n",
       "      <td>Morning</td>\n",
       "      <td>26</td>\n",
       "      <td>26</td>\n",
       "      <td>6</td>\n",
       "      <td>6</td>\n",
       "      <td>6</td>\n",
       "      <td>6</td>\n",
       "      <td>408.0</td>\n",
       "      <td>1.813886</td>\n",
       "    </tr>\n",
       "  </tbody>\n",
       "</table>\n",
       "</div>"
      ],
      "text/plain": [
       "                id  vendor_id     pickup_datetime    dropoff_datetime  \\\n",
       "879655   id2425795          1 2016-01-08 23:55:11 2016-01-09 00:04:32   \n",
       "646838   id0767831          2 2016-03-05 09:52:06 2016-03-05 10:00:12   \n",
       "1138713  id0449104          1 2016-04-09 16:03:53 2016-04-09 16:21:22   \n",
       "864716   id3030157          1 2016-01-06 11:12:44 2016-01-06 11:19:49   \n",
       "434927   id1584885          1 2016-06-26 09:10:56 2016-06-26 09:17:44   \n",
       "\n",
       "         passenger_count  pickup_longitude  pickup_latitude  \\\n",
       "879655                 1        -73.955551        40.773346   \n",
       "646838                 1        -73.962181        40.763599   \n",
       "1138713                1        -73.977486        40.751842   \n",
       "864716                 1        -73.970001        40.762363   \n",
       "434927                 1        -73.950348        40.771561   \n",
       "\n",
       "         dropoff_longitude  dropoff_latitude store_and_fwd_flag  \\\n",
       "879655          -73.973640         40.763500                  N   \n",
       "646838          -73.980377         40.764919                  N   \n",
       "1138713         -74.011688         40.718925                  N   \n",
       "864716          -73.963264         40.774666                  N   \n",
       "434927          -73.968178         40.762409                  N   \n",
       "\n",
       "         trip_duration  pickup_hour  dropoff_hour pickup_timeofday  \\\n",
       "879655             561           23             0            Night   \n",
       "646838             486            9            10          Morning   \n",
       "1138713           1049           16            16          Evening   \n",
       "864716             425           11            11          Morning   \n",
       "434927             408            9             9          Morning   \n",
       "\n",
       "        dropoff_timeofday  pickup_day  dropoff_day  pickup_month  \\\n",
       "879655              Night           8            9             1   \n",
       "646838            Morning           5            5             3   \n",
       "1138713           Evening           9            9             4   \n",
       "864716            Morning           6            6             1   \n",
       "434927            Morning          26           26             6   \n",
       "\n",
       "         dropoff_month  pickup_weekday  dropoff_weekday  calc_trip_duration  \\\n",
       "879655               1               4                5               561.0   \n",
       "646838               3               5                5               486.0   \n",
       "1138713              4               5                5              1049.0   \n",
       "864716               1               2                2               425.0   \n",
       "434927               6               6                6               408.0   \n",
       "\n",
       "         trip_distance  \n",
       "879655        1.875964  \n",
       "646838        1.539475  \n",
       "1138713       4.658508  \n",
       "864716        1.480942  \n",
       "434927        1.813886  "
      ]
     },
     "execution_count": 10,
     "metadata": {},
     "output_type": "execute_result"
    }
   ],
   "source": [
    "preprop_X = pre_process_features(x_new_pd)\n",
    "pd.set_option('display.max_columns', None)\n",
    "preprop_X.head()"
   ]
  },
  {
   "cell_type": "code",
   "execution_count": 11,
   "metadata": {},
   "outputs": [
    {
     "data": {
      "text/plain": [
       "(1312779, 23)"
      ]
     },
     "execution_count": 11,
     "metadata": {},
     "output_type": "execute_result"
    }
   ],
   "source": [
    "X_train_df = preprop_X.copy()\n",
    "X_train_df.shape"
   ]
  },
  {
   "cell_type": "markdown",
   "metadata": {},
   "source": [
    "## Exploring Train Set"
   ]
  },
  {
   "cell_type": "markdown",
   "metadata": {},
   "source": [
    "### Passenger Count\n"
   ]
  },
  {
   "cell_type": "markdown",
   "metadata": {},
   "source": []
  },
  {
   "cell_type": "code",
   "execution_count": 12,
   "metadata": {},
   "outputs": [
    {
     "data": {
      "text/plain": [
       "passenger_count\n",
       "1    930408\n",
       "2    189203\n",
       "5     70257\n",
       "3     53849\n",
       "6     43467\n",
       "4     25536\n",
       "0        54\n",
       "7         3\n",
       "8         1\n",
       "9         1\n",
       "Name: count, dtype: int64"
      ]
     },
     "execution_count": 12,
     "metadata": {},
     "output_type": "execute_result"
    }
   ],
   "source": [
    "\n",
    "X_train_df['passenger_count'].value_counts()"
   ]
  },
  {
   "cell_type": "code",
   "execution_count": 13,
   "metadata": {},
   "outputs": [
    {
     "data": {
      "text/plain": [
       "passenger_count\n",
       "1    930408\n",
       "2    189203\n",
       "5     70257\n",
       "3     53849\n",
       "6     43467\n",
       "4     25536\n",
       "Name: count, dtype: int64"
      ]
     },
     "execution_count": 13,
     "metadata": {},
     "output_type": "execute_result"
    }
   ],
   "source": [
    "# Remove outliers\n",
    "\n",
    "X_train_df = X_train_df[(X_train_df['passenger_count'] != 0) & (X_train_df['passenger_count'] <= 6)]\n",
    "\n",
    "X_train_df['passenger_count'].value_counts()"
   ]
  },
  {
   "cell_type": "markdown",
   "metadata": {},
   "source": [
    "#### Plot Passenger Count Distribution"
   ]
  },
  {
   "cell_type": "code",
   "execution_count": 83,
   "metadata": {},
   "outputs": [],
   "source": [
    "passenger_counts = X_train_df['passenger_count'].value_counts().reset_index()\n",
    "passenger_counts.columns = ['passenger_count', 'count']\n",
    "\n",
    "# Ensure passenger_count is treated as a numeric column and sort\n",
    "passenger_counts['passenger_count'] = passenger_counts['passenger_count'].astype(int)\n",
    "passenger_counts = passenger_counts.sort_values('passenger_count')\n",
    "\n",
    "# Plot using Plotly\n",
    "fig = px.bar(passenger_counts, \n",
    "             x='passenger_count', \n",
    "             y='count', \n",
    "             title='Passenger Count Distribution (Ordered by Count)',\n",
    "             labels={'passenger_count': 'Passenger Count', 'count': 'Frequency'})\n",
    "\n",
    "# Show plot\n",
    "#fig.show()\n"
   ]
  },
  {
   "cell_type": "markdown",
   "metadata": {},
   "source": [
    "### Vendor ID"
   ]
  },
  {
   "cell_type": "code",
   "execution_count": 15,
   "metadata": {},
   "outputs": [
    {
     "data": {
      "text/plain": [
       "vendor_id\n",
       "2    702145\n",
       "1    610575\n",
       "Name: count, dtype: int64"
      ]
     },
     "execution_count": 15,
     "metadata": {},
     "output_type": "execute_result"
    }
   ],
   "source": [
    "X_train_df['vendor_id'].value_counts()"
   ]
  },
  {
   "cell_type": "markdown",
   "metadata": {},
   "source": [
    "\n",
    "#### Plot Vendor Distribution"
   ]
  },
  {
   "cell_type": "code",
   "execution_count": 85,
   "metadata": {},
   "outputs": [],
   "source": [
    "fig = px.histogram(X_train_df, \n",
    "                   x='vendor_id', \n",
    "                   title='Vendor Distribution', \n",
    "                   labels={'vendor_id': 'Venor Id'},\n",
    "                   color='vendor_id',) \n",
    "\n",
    "# Show plot\n",
    "#fig.show()"
   ]
  },
  {
   "cell_type": "markdown",
   "metadata": {},
   "source": [
    "### Trip Distance"
   ]
  },
  {
   "cell_type": "code",
   "execution_count": 17,
   "metadata": {},
   "outputs": [],
   "source": [
    "X_train_df = X_train_df[X_train_df['trip_distance'] != X_train_df['trip_distance'].min()]\n"
   ]
  },
  {
   "cell_type": "code",
   "execution_count": 18,
   "metadata": {},
   "outputs": [
    {
     "data": {
      "text/plain": [
       "1240.9086766508526"
      ]
     },
     "execution_count": 18,
     "metadata": {},
     "output_type": "execute_result"
    }
   ],
   "source": [
    "X_train_df['trip_distance'].max()"
   ]
  },
  {
   "cell_type": "markdown",
   "metadata": {},
   "source": [
    "#### Removing outliers"
   ]
  },
  {
   "cell_type": "code",
   "execution_count": 19,
   "metadata": {},
   "outputs": [
    {
     "name": "stdout",
     "output_type": "stream",
     "text": [
      "-2.73121482143264\n",
      "7.859662719071586\n",
      "Number of data points greater than the upper bound: 126278\n",
      "Number of data points lower than the lower bound: 0\n"
     ]
    }
   ],
   "source": [
    "# Calculate the first (Q1) and third quartile (Q3) of 'trip_distance'\n",
    "Q1 = X_train_df['trip_distance'].quantile(0.25)\n",
    "Q3 = X_train_df['trip_distance'].quantile(0.75)\n",
    "\n",
    "# Calculate the IQR (Interquartile Range)\n",
    "IQR = Q3 - Q1\n",
    "\n",
    "# Define the lower and upper bounds for outliers\n",
    "lower_bound = Q1 - 1.5 * IQR\n",
    "upper_bound = Q3 + 1.5 * IQR\n",
    "\n",
    "print(lower_bound)\n",
    "print(upper_bound)\n",
    "\n",
    "# Count the number of data points greater than upper_bound\n",
    "greater_than_upper = X_train_df[X_train_df['trip_distance'] > upper_bound].shape[0]\n",
    "\n",
    "# Count the number of data points lower than lower_bound\n",
    "lower_than_lower = X_train_df[X_train_df['trip_distance'] < lower_bound].shape[0]\n",
    "\n",
    "# Print the results\n",
    "print(f\"Number of data points greater than the upper bound: {greater_than_upper}\")\n",
    "print(f\"Number of data points lower than the lower bound: {lower_than_lower}\")\n",
    "\n"
   ]
  },
  {
   "cell_type": "code",
   "execution_count": 20,
   "metadata": {},
   "outputs": [
    {
     "name": "stdout",
     "output_type": "stream",
     "text": [
      "(1181170, 23)\n"
     ]
    }
   ],
   "source": [
    "#Removing outliers for trip distance\n",
    "X_train_df = X_train_df[(X_train_df['trip_distance'] >= lower_bound) & (X_train_df['trip_distance'] <= upper_bound)]\n",
    "\n",
    "print(X_train_df.shape)"
   ]
  },
  {
   "cell_type": "markdown",
   "metadata": {},
   "source": [
    "#### Plotting Trip Distance"
   ]
  },
  {
   "cell_type": "code",
   "execution_count": null,
   "metadata": {},
   "outputs": [],
   "source": [
    "\n",
    "# Set seaborn style\n",
    "sns.set_style(\"darkgrid\")\n",
    "\n",
    "# Create scatter plot\n",
    "plt.figure(figsize=(10, 6))\n",
    "sns.scatterplot(data=X_train_df, x=\"trip_distance\", y=\"trip_duration\", alpha=0.5)\n",
    "\n",
    "# Labels and title\n",
    "plt.xlabel(\"Trip Distance (km)\")\n",
    "plt.ylabel(\"Trip Duration (seconds)\")\n",
    "plt.title(\"Trip Duration vs. Distance\")\n",
    "\n",
    "\n",
    "#plt.show()\n"
   ]
  },
  {
   "cell_type": "markdown",
   "metadata": {},
   "source": [
    "### Trip Duration"
   ]
  },
  {
   "cell_type": "code",
   "execution_count": 22,
   "metadata": {},
   "outputs": [
    {
     "data": {
      "text/plain": [
       "trip_duration\n",
       "368      1445\n",
       "399      1428\n",
       "408      1425\n",
       "369      1421\n",
       "449      1419\n",
       "         ... \n",
       "84403       1\n",
       "84910       1\n",
       "4250        1\n",
       "83296       1\n",
       "9197        1\n",
       "Name: count, Length: 5077, dtype: int64"
      ]
     },
     "execution_count": 22,
     "metadata": {},
     "output_type": "execute_result"
    }
   ],
   "source": [
    "X_train_df['trip_duration'].value_counts()"
   ]
  },
  {
   "cell_type": "code",
   "execution_count": 23,
   "metadata": {},
   "outputs": [
    {
     "name": "stdout",
     "output_type": "stream",
     "text": [
      "Max:  618.7811111111112\n"
     ]
    }
   ],
   "source": [
    "\n",
    "max_trip_hr = X_train_df['trip_duration'].max() / 3600\n",
    "\n",
    "print(\"Max: \", max_trip_hr)"
   ]
  },
  {
   "cell_type": "code",
   "execution_count": 24,
   "metadata": {},
   "outputs": [
    {
     "data": {
      "text/plain": [
       "924150     2227612\n",
       "680594     2049578\n",
       "73816        86390\n",
       "59891        86387\n",
       "1221666      86378\n",
       "            ...   \n",
       "1439166          1\n",
       "1360664          1\n",
       "533799           1\n",
       "269418           1\n",
       "35196            1\n",
       "Name: trip_duration, Length: 1181170, dtype: int64"
      ]
     },
     "execution_count": 24,
     "metadata": {},
     "output_type": "execute_result"
    }
   ],
   "source": [
    "X_train_df['trip_duration'].sort_values(ascending= False)"
   ]
  },
  {
   "cell_type": "markdown",
   "metadata": {},
   "source": [
    "#### Removing outliers"
   ]
  },
  {
   "cell_type": "code",
   "execution_count": 25,
   "metadata": {},
   "outputs": [],
   "source": [
    "X_train_df= X_train_df[X_train_df.trip_duration <= 5000]\n",
    "X_train_df = X_train_df[X_train_df.trip_duration >= 60]"
   ]
  },
  {
   "cell_type": "code",
   "execution_count": 26,
   "metadata": {},
   "outputs": [
    {
     "data": {
      "text/plain": [
       "trip_duration\n",
       "368     1445\n",
       "399     1428\n",
       "408     1425\n",
       "369     1421\n",
       "449     1419\n",
       "        ... \n",
       "3028       1\n",
       "4250       1\n",
       "4040       1\n",
       "3087       1\n",
       "3814       1\n",
       "Name: count, Length: 3813, dtype: int64"
      ]
     },
     "execution_count": 26,
     "metadata": {},
     "output_type": "execute_result"
    }
   ],
   "source": [
    "X_train_df['trip_duration'].value_counts()"
   ]
  },
  {
   "cell_type": "markdown",
   "metadata": {},
   "source": [
    "### Pickup Time of Day"
   ]
  },
  {
   "cell_type": "code",
   "execution_count": null,
   "metadata": {},
   "outputs": [],
   "source": [
    "fig = px.histogram(X_train_df, \n",
    "                   x='pickup_timeofday', \n",
    "                   title='Pickup Time of Day', \n",
    "                   labels={'pickup_timeofday': 'Time of Day'},\n",
    "                   color='pickup_timeofday',  # Color by parts of the day\n",
    "                   category_orders={'pickup_timeofday': ['Morning', 'Afternoon', 'Evening', 'Night']})  # Order parts of the day\n",
    "\n",
    "# Show plot\n",
    "#fig.show()"
   ]
  },
  {
   "cell_type": "markdown",
   "metadata": {},
   "source": [
    "### Drop-off Time of Day"
   ]
  },
  {
   "cell_type": "code",
   "execution_count": null,
   "metadata": {},
   "outputs": [],
   "source": [
    "fig = px.histogram(X_train_df, \n",
    "                   x='dropoff_timeofday', \n",
    "                   title='Drof-off Time of Day', \n",
    "                   labels={'dropoff_timeofday': 'Time of Day'},\n",
    "                   color='dropoff_timeofday',  # Color by parts of the day\n",
    "                   category_orders={'dropoff_timeofday': ['Morning', 'Afternoon', 'Evening', 'Night']})  # Order parts of the day\n",
    "\n",
    "# Show plot\n",
    "#fig.show()"
   ]
  },
  {
   "cell_type": "markdown",
   "metadata": {},
   "source": [
    "### Pick-up Hours"
   ]
  },
  {
   "cell_type": "code",
   "execution_count": null,
   "metadata": {},
   "outputs": [],
   "source": [
    "fig = px.histogram(X_train_df, \n",
    "                   x='pickup_hour', \n",
    "                   title='Pickup Hours', \n",
    "                   labels={'pickup_hour': 'Hour of Day'},\n",
    "                   color='pickup_hour',  # Color by parts of the day\n",
    "                   category_orders={'pickup_hour': list(range(24))})  # Order parts of the day\n",
    "\n",
    "# Show plot\n",
    "#fig.show()"
   ]
  },
  {
   "cell_type": "markdown",
   "metadata": {},
   "source": [
    "### Drop-off Hours"
   ]
  },
  {
   "cell_type": "code",
   "execution_count": 88,
   "metadata": {},
   "outputs": [],
   "source": [
    "fig = px.histogram(X_train_df, \n",
    "                   x='dropoff_hour', \n",
    "                   title='Drop-off Hours', \n",
    "                   labels={'dropoff_hour': 'Hour of Day'},\n",
    "                   color='dropoff_hour',  # Color by parts of the day\n",
    "                   category_orders={'dropoff_hour': list(range(24))})  # Order parts of the day\n",
    "\n",
    "# Show plot\n",
    "#fig.show()"
   ]
  },
  {
   "cell_type": "markdown",
   "metadata": {},
   "source": [
    "### Pick-up Weekday"
   ]
  },
  {
   "cell_type": "code",
   "execution_count": 89,
   "metadata": {},
   "outputs": [],
   "source": [
    "fig = px.histogram(X_train_df, \n",
    "                   x='pickup_weekday', \n",
    "                   title='Pick-up Day of the Week', \n",
    "                   labels={'pickup_weekday': 'Day  of the Week'},\n",
    "                   color='pickup_weekday',  # Color by parts of the day\n",
    "                    )  # Order parts of the day\n",
    "\n",
    "# Show plot\n",
    "#fig.show()"
   ]
  },
  {
   "cell_type": "markdown",
   "metadata": {},
   "source": [
    "### Drop-off Weekday"
   ]
  },
  {
   "cell_type": "code",
   "execution_count": 90,
   "metadata": {},
   "outputs": [],
   "source": [
    "fig = px.histogram(X_train_df, \n",
    "                   x='dropoff_weekday', \n",
    "                   title='Drop-off Day of the Week', \n",
    "                   labels={'dropoff_weekday': 'Day  of the Week'},\n",
    "                   color='dropoff_weekday',  # Color by parts of the day\n",
    "                    )  # Order parts of the day\n",
    "\n",
    "# Show plot\n",
    "#fig.show()"
   ]
  },
  {
   "cell_type": "markdown",
   "metadata": {},
   "source": [
    "### Pick-up Months"
   ]
  },
  {
   "cell_type": "code",
   "execution_count": 92,
   "metadata": {},
   "outputs": [],
   "source": [
    "\n",
    "fig = px.histogram(X_train_df, \n",
    "                   x='pickup_month', \n",
    "                   title='Pick-up Months', \n",
    "                   labels={'pickup_month': 'Month  of Year'},\n",
    "                   color='pickup_month',\n",
    "                   category_orders={'dropoff_hour': list(range(6))})\n",
    "\n",
    "# Show plot\n",
    "#fig.show()"
   ]
  },
  {
   "cell_type": "markdown",
   "metadata": {},
   "source": [
    "### Drop-off Months"
   ]
  },
  {
   "cell_type": "code",
   "execution_count": 95,
   "metadata": {},
   "outputs": [],
   "source": [
    "\n",
    "fig = px.histogram(X_train_df, \n",
    "                   x='dropoff_month', \n",
    "                   title='Drop-off Months', \n",
    "                   labels={'dropoff_month': 'Month  of Year'},\n",
    "                   color='dropoff_month',\n",
    "                   category_orders={'dropoff_month': list(range(6))})\n",
    "\n",
    "# Show plot\n",
    "#fig.show()"
   ]
  },
  {
   "cell_type": "code",
   "execution_count": 35,
   "metadata": {},
   "outputs": [
    {
     "data": {
      "text/html": [
       "<div>\n",
       "<style scoped>\n",
       "    .dataframe tbody tr th:only-of-type {\n",
       "        vertical-align: middle;\n",
       "    }\n",
       "\n",
       "    .dataframe tbody tr th {\n",
       "        vertical-align: top;\n",
       "    }\n",
       "\n",
       "    .dataframe thead th {\n",
       "        text-align: right;\n",
       "    }\n",
       "</style>\n",
       "<table border=\"1\" class=\"dataframe\">\n",
       "  <thead>\n",
       "    <tr style=\"text-align: right;\">\n",
       "      <th></th>\n",
       "      <th>id</th>\n",
       "      <th>vendor_id</th>\n",
       "      <th>pickup_datetime</th>\n",
       "      <th>dropoff_datetime</th>\n",
       "      <th>passenger_count</th>\n",
       "      <th>pickup_longitude</th>\n",
       "      <th>pickup_latitude</th>\n",
       "      <th>dropoff_longitude</th>\n",
       "      <th>dropoff_latitude</th>\n",
       "      <th>store_and_fwd_flag</th>\n",
       "      <th>trip_duration</th>\n",
       "      <th>pickup_hour</th>\n",
       "      <th>dropoff_hour</th>\n",
       "      <th>pickup_timeofday</th>\n",
       "      <th>dropoff_timeofday</th>\n",
       "      <th>pickup_day</th>\n",
       "      <th>dropoff_day</th>\n",
       "      <th>pickup_month</th>\n",
       "      <th>dropoff_month</th>\n",
       "      <th>pickup_weekday</th>\n",
       "      <th>dropoff_weekday</th>\n",
       "      <th>calc_trip_duration</th>\n",
       "      <th>trip_distance</th>\n",
       "    </tr>\n",
       "  </thead>\n",
       "  <tbody>\n",
       "    <tr>\n",
       "      <th>879655</th>\n",
       "      <td>id2425795</td>\n",
       "      <td>1</td>\n",
       "      <td>2016-01-08 23:55:11</td>\n",
       "      <td>2016-01-09 00:04:32</td>\n",
       "      <td>1</td>\n",
       "      <td>-73.955551</td>\n",
       "      <td>40.773346</td>\n",
       "      <td>-73.973640</td>\n",
       "      <td>40.763500</td>\n",
       "      <td>N</td>\n",
       "      <td>561</td>\n",
       "      <td>23</td>\n",
       "      <td>0</td>\n",
       "      <td>Night</td>\n",
       "      <td>Night</td>\n",
       "      <td>8</td>\n",
       "      <td>9</td>\n",
       "      <td>1</td>\n",
       "      <td>1</td>\n",
       "      <td>4</td>\n",
       "      <td>5</td>\n",
       "      <td>561.0</td>\n",
       "      <td>1.875964</td>\n",
       "    </tr>\n",
       "    <tr>\n",
       "      <th>646838</th>\n",
       "      <td>id0767831</td>\n",
       "      <td>2</td>\n",
       "      <td>2016-03-05 09:52:06</td>\n",
       "      <td>2016-03-05 10:00:12</td>\n",
       "      <td>1</td>\n",
       "      <td>-73.962181</td>\n",
       "      <td>40.763599</td>\n",
       "      <td>-73.980377</td>\n",
       "      <td>40.764919</td>\n",
       "      <td>N</td>\n",
       "      <td>486</td>\n",
       "      <td>9</td>\n",
       "      <td>10</td>\n",
       "      <td>Morning</td>\n",
       "      <td>Morning</td>\n",
       "      <td>5</td>\n",
       "      <td>5</td>\n",
       "      <td>3</td>\n",
       "      <td>3</td>\n",
       "      <td>5</td>\n",
       "      <td>5</td>\n",
       "      <td>486.0</td>\n",
       "      <td>1.539475</td>\n",
       "    </tr>\n",
       "    <tr>\n",
       "      <th>1138713</th>\n",
       "      <td>id0449104</td>\n",
       "      <td>1</td>\n",
       "      <td>2016-04-09 16:03:53</td>\n",
       "      <td>2016-04-09 16:21:22</td>\n",
       "      <td>1</td>\n",
       "      <td>-73.977486</td>\n",
       "      <td>40.751842</td>\n",
       "      <td>-74.011688</td>\n",
       "      <td>40.718925</td>\n",
       "      <td>N</td>\n",
       "      <td>1049</td>\n",
       "      <td>16</td>\n",
       "      <td>16</td>\n",
       "      <td>Evening</td>\n",
       "      <td>Evening</td>\n",
       "      <td>9</td>\n",
       "      <td>9</td>\n",
       "      <td>4</td>\n",
       "      <td>4</td>\n",
       "      <td>5</td>\n",
       "      <td>5</td>\n",
       "      <td>1049.0</td>\n",
       "      <td>4.658508</td>\n",
       "    </tr>\n",
       "    <tr>\n",
       "      <th>864716</th>\n",
       "      <td>id3030157</td>\n",
       "      <td>1</td>\n",
       "      <td>2016-01-06 11:12:44</td>\n",
       "      <td>2016-01-06 11:19:49</td>\n",
       "      <td>1</td>\n",
       "      <td>-73.970001</td>\n",
       "      <td>40.762363</td>\n",
       "      <td>-73.963264</td>\n",
       "      <td>40.774666</td>\n",
       "      <td>N</td>\n",
       "      <td>425</td>\n",
       "      <td>11</td>\n",
       "      <td>11</td>\n",
       "      <td>Morning</td>\n",
       "      <td>Morning</td>\n",
       "      <td>6</td>\n",
       "      <td>6</td>\n",
       "      <td>1</td>\n",
       "      <td>1</td>\n",
       "      <td>2</td>\n",
       "      <td>2</td>\n",
       "      <td>425.0</td>\n",
       "      <td>1.480942</td>\n",
       "    </tr>\n",
       "    <tr>\n",
       "      <th>434927</th>\n",
       "      <td>id1584885</td>\n",
       "      <td>1</td>\n",
       "      <td>2016-06-26 09:10:56</td>\n",
       "      <td>2016-06-26 09:17:44</td>\n",
       "      <td>1</td>\n",
       "      <td>-73.950348</td>\n",
       "      <td>40.771561</td>\n",
       "      <td>-73.968178</td>\n",
       "      <td>40.762409</td>\n",
       "      <td>N</td>\n",
       "      <td>408</td>\n",
       "      <td>9</td>\n",
       "      <td>9</td>\n",
       "      <td>Morning</td>\n",
       "      <td>Morning</td>\n",
       "      <td>26</td>\n",
       "      <td>26</td>\n",
       "      <td>6</td>\n",
       "      <td>6</td>\n",
       "      <td>6</td>\n",
       "      <td>6</td>\n",
       "      <td>408.0</td>\n",
       "      <td>1.813886</td>\n",
       "    </tr>\n",
       "  </tbody>\n",
       "</table>\n",
       "</div>"
      ],
      "text/plain": [
       "                id  vendor_id     pickup_datetime    dropoff_datetime  \\\n",
       "879655   id2425795          1 2016-01-08 23:55:11 2016-01-09 00:04:32   \n",
       "646838   id0767831          2 2016-03-05 09:52:06 2016-03-05 10:00:12   \n",
       "1138713  id0449104          1 2016-04-09 16:03:53 2016-04-09 16:21:22   \n",
       "864716   id3030157          1 2016-01-06 11:12:44 2016-01-06 11:19:49   \n",
       "434927   id1584885          1 2016-06-26 09:10:56 2016-06-26 09:17:44   \n",
       "\n",
       "         passenger_count  pickup_longitude  pickup_latitude  \\\n",
       "879655                 1        -73.955551        40.773346   \n",
       "646838                 1        -73.962181        40.763599   \n",
       "1138713                1        -73.977486        40.751842   \n",
       "864716                 1        -73.970001        40.762363   \n",
       "434927                 1        -73.950348        40.771561   \n",
       "\n",
       "         dropoff_longitude  dropoff_latitude store_and_fwd_flag  \\\n",
       "879655          -73.973640         40.763500                  N   \n",
       "646838          -73.980377         40.764919                  N   \n",
       "1138713         -74.011688         40.718925                  N   \n",
       "864716          -73.963264         40.774666                  N   \n",
       "434927          -73.968178         40.762409                  N   \n",
       "\n",
       "         trip_duration  pickup_hour  dropoff_hour pickup_timeofday  \\\n",
       "879655             561           23             0            Night   \n",
       "646838             486            9            10          Morning   \n",
       "1138713           1049           16            16          Evening   \n",
       "864716             425           11            11          Morning   \n",
       "434927             408            9             9          Morning   \n",
       "\n",
       "        dropoff_timeofday  pickup_day  dropoff_day  pickup_month  \\\n",
       "879655              Night           8            9             1   \n",
       "646838            Morning           5            5             3   \n",
       "1138713           Evening           9            9             4   \n",
       "864716            Morning           6            6             1   \n",
       "434927            Morning          26           26             6   \n",
       "\n",
       "         dropoff_month  pickup_weekday  dropoff_weekday  calc_trip_duration  \\\n",
       "879655               1               4                5               561.0   \n",
       "646838               3               5                5               486.0   \n",
       "1138713              4               5                5              1049.0   \n",
       "864716               1               2                2               425.0   \n",
       "434927               6               6                6               408.0   \n",
       "\n",
       "         trip_distance  \n",
       "879655        1.875964  \n",
       "646838        1.539475  \n",
       "1138713       4.658508  \n",
       "864716        1.480942  \n",
       "434927        1.813886  "
      ]
     },
     "execution_count": 35,
     "metadata": {},
     "output_type": "execute_result"
    }
   ],
   "source": [
    "X_train_df.head()"
   ]
  },
  {
   "cell_type": "markdown",
   "metadata": {},
   "source": [
    "### Co-relation Matrix"
   ]
  },
  {
   "cell_type": "code",
   "execution_count": 36,
   "metadata": {},
   "outputs": [],
   "source": [
    "X_train_df = X_train_df.join(pd.get_dummies(X_train_df['pickup_timeofday'], prefix='pickup_timeofday', dtype=int))\n"
   ]
  },
  {
   "cell_type": "code",
   "execution_count": 37,
   "metadata": {},
   "outputs": [
    {
     "data": {
      "text/html": [
       "<div>\n",
       "<style scoped>\n",
       "    .dataframe tbody tr th:only-of-type {\n",
       "        vertical-align: middle;\n",
       "    }\n",
       "\n",
       "    .dataframe tbody tr th {\n",
       "        vertical-align: top;\n",
       "    }\n",
       "\n",
       "    .dataframe thead th {\n",
       "        text-align: right;\n",
       "    }\n",
       "</style>\n",
       "<table border=\"1\" class=\"dataframe\">\n",
       "  <thead>\n",
       "    <tr style=\"text-align: right;\">\n",
       "      <th></th>\n",
       "      <th>id</th>\n",
       "      <th>vendor_id</th>\n",
       "      <th>pickup_datetime</th>\n",
       "      <th>dropoff_datetime</th>\n",
       "      <th>passenger_count</th>\n",
       "      <th>pickup_longitude</th>\n",
       "      <th>pickup_latitude</th>\n",
       "      <th>dropoff_longitude</th>\n",
       "      <th>dropoff_latitude</th>\n",
       "      <th>store_and_fwd_flag</th>\n",
       "      <th>trip_duration</th>\n",
       "      <th>pickup_hour</th>\n",
       "      <th>dropoff_hour</th>\n",
       "      <th>dropoff_timeofday</th>\n",
       "      <th>pickup_day</th>\n",
       "      <th>dropoff_day</th>\n",
       "      <th>pickup_month</th>\n",
       "      <th>dropoff_month</th>\n",
       "      <th>pickup_weekday</th>\n",
       "      <th>dropoff_weekday</th>\n",
       "      <th>calc_trip_duration</th>\n",
       "      <th>trip_distance</th>\n",
       "      <th>pickup_timeofday_Afternoon</th>\n",
       "      <th>pickup_timeofday_Evening</th>\n",
       "      <th>pickup_timeofday_Morning</th>\n",
       "      <th>pickup_timeofday_Night</th>\n",
       "    </tr>\n",
       "  </thead>\n",
       "  <tbody>\n",
       "    <tr>\n",
       "      <th>879655</th>\n",
       "      <td>id2425795</td>\n",
       "      <td>1</td>\n",
       "      <td>2016-01-08 23:55:11</td>\n",
       "      <td>2016-01-09 00:04:32</td>\n",
       "      <td>1</td>\n",
       "      <td>-73.955551</td>\n",
       "      <td>40.773346</td>\n",
       "      <td>-73.973640</td>\n",
       "      <td>40.763500</td>\n",
       "      <td>N</td>\n",
       "      <td>561</td>\n",
       "      <td>23</td>\n",
       "      <td>0</td>\n",
       "      <td>Night</td>\n",
       "      <td>8</td>\n",
       "      <td>9</td>\n",
       "      <td>1</td>\n",
       "      <td>1</td>\n",
       "      <td>4</td>\n",
       "      <td>5</td>\n",
       "      <td>561.0</td>\n",
       "      <td>1.875964</td>\n",
       "      <td>0</td>\n",
       "      <td>0</td>\n",
       "      <td>0</td>\n",
       "      <td>1</td>\n",
       "    </tr>\n",
       "    <tr>\n",
       "      <th>646838</th>\n",
       "      <td>id0767831</td>\n",
       "      <td>2</td>\n",
       "      <td>2016-03-05 09:52:06</td>\n",
       "      <td>2016-03-05 10:00:12</td>\n",
       "      <td>1</td>\n",
       "      <td>-73.962181</td>\n",
       "      <td>40.763599</td>\n",
       "      <td>-73.980377</td>\n",
       "      <td>40.764919</td>\n",
       "      <td>N</td>\n",
       "      <td>486</td>\n",
       "      <td>9</td>\n",
       "      <td>10</td>\n",
       "      <td>Morning</td>\n",
       "      <td>5</td>\n",
       "      <td>5</td>\n",
       "      <td>3</td>\n",
       "      <td>3</td>\n",
       "      <td>5</td>\n",
       "      <td>5</td>\n",
       "      <td>486.0</td>\n",
       "      <td>1.539475</td>\n",
       "      <td>0</td>\n",
       "      <td>0</td>\n",
       "      <td>1</td>\n",
       "      <td>0</td>\n",
       "    </tr>\n",
       "    <tr>\n",
       "      <th>1138713</th>\n",
       "      <td>id0449104</td>\n",
       "      <td>1</td>\n",
       "      <td>2016-04-09 16:03:53</td>\n",
       "      <td>2016-04-09 16:21:22</td>\n",
       "      <td>1</td>\n",
       "      <td>-73.977486</td>\n",
       "      <td>40.751842</td>\n",
       "      <td>-74.011688</td>\n",
       "      <td>40.718925</td>\n",
       "      <td>N</td>\n",
       "      <td>1049</td>\n",
       "      <td>16</td>\n",
       "      <td>16</td>\n",
       "      <td>Evening</td>\n",
       "      <td>9</td>\n",
       "      <td>9</td>\n",
       "      <td>4</td>\n",
       "      <td>4</td>\n",
       "      <td>5</td>\n",
       "      <td>5</td>\n",
       "      <td>1049.0</td>\n",
       "      <td>4.658508</td>\n",
       "      <td>0</td>\n",
       "      <td>1</td>\n",
       "      <td>0</td>\n",
       "      <td>0</td>\n",
       "    </tr>\n",
       "    <tr>\n",
       "      <th>864716</th>\n",
       "      <td>id3030157</td>\n",
       "      <td>1</td>\n",
       "      <td>2016-01-06 11:12:44</td>\n",
       "      <td>2016-01-06 11:19:49</td>\n",
       "      <td>1</td>\n",
       "      <td>-73.970001</td>\n",
       "      <td>40.762363</td>\n",
       "      <td>-73.963264</td>\n",
       "      <td>40.774666</td>\n",
       "      <td>N</td>\n",
       "      <td>425</td>\n",
       "      <td>11</td>\n",
       "      <td>11</td>\n",
       "      <td>Morning</td>\n",
       "      <td>6</td>\n",
       "      <td>6</td>\n",
       "      <td>1</td>\n",
       "      <td>1</td>\n",
       "      <td>2</td>\n",
       "      <td>2</td>\n",
       "      <td>425.0</td>\n",
       "      <td>1.480942</td>\n",
       "      <td>0</td>\n",
       "      <td>0</td>\n",
       "      <td>1</td>\n",
       "      <td>0</td>\n",
       "    </tr>\n",
       "    <tr>\n",
       "      <th>434927</th>\n",
       "      <td>id1584885</td>\n",
       "      <td>1</td>\n",
       "      <td>2016-06-26 09:10:56</td>\n",
       "      <td>2016-06-26 09:17:44</td>\n",
       "      <td>1</td>\n",
       "      <td>-73.950348</td>\n",
       "      <td>40.771561</td>\n",
       "      <td>-73.968178</td>\n",
       "      <td>40.762409</td>\n",
       "      <td>N</td>\n",
       "      <td>408</td>\n",
       "      <td>9</td>\n",
       "      <td>9</td>\n",
       "      <td>Morning</td>\n",
       "      <td>26</td>\n",
       "      <td>26</td>\n",
       "      <td>6</td>\n",
       "      <td>6</td>\n",
       "      <td>6</td>\n",
       "      <td>6</td>\n",
       "      <td>408.0</td>\n",
       "      <td>1.813886</td>\n",
       "      <td>0</td>\n",
       "      <td>0</td>\n",
       "      <td>1</td>\n",
       "      <td>0</td>\n",
       "    </tr>\n",
       "  </tbody>\n",
       "</table>\n",
       "</div>"
      ],
      "text/plain": [
       "                id  vendor_id     pickup_datetime    dropoff_datetime  \\\n",
       "879655   id2425795          1 2016-01-08 23:55:11 2016-01-09 00:04:32   \n",
       "646838   id0767831          2 2016-03-05 09:52:06 2016-03-05 10:00:12   \n",
       "1138713  id0449104          1 2016-04-09 16:03:53 2016-04-09 16:21:22   \n",
       "864716   id3030157          1 2016-01-06 11:12:44 2016-01-06 11:19:49   \n",
       "434927   id1584885          1 2016-06-26 09:10:56 2016-06-26 09:17:44   \n",
       "\n",
       "         passenger_count  pickup_longitude  pickup_latitude  \\\n",
       "879655                 1        -73.955551        40.773346   \n",
       "646838                 1        -73.962181        40.763599   \n",
       "1138713                1        -73.977486        40.751842   \n",
       "864716                 1        -73.970001        40.762363   \n",
       "434927                 1        -73.950348        40.771561   \n",
       "\n",
       "         dropoff_longitude  dropoff_latitude store_and_fwd_flag  \\\n",
       "879655          -73.973640         40.763500                  N   \n",
       "646838          -73.980377         40.764919                  N   \n",
       "1138713         -74.011688         40.718925                  N   \n",
       "864716          -73.963264         40.774666                  N   \n",
       "434927          -73.968178         40.762409                  N   \n",
       "\n",
       "         trip_duration  pickup_hour  dropoff_hour dropoff_timeofday  \\\n",
       "879655             561           23             0             Night   \n",
       "646838             486            9            10           Morning   \n",
       "1138713           1049           16            16           Evening   \n",
       "864716             425           11            11           Morning   \n",
       "434927             408            9             9           Morning   \n",
       "\n",
       "         pickup_day  dropoff_day  pickup_month  dropoff_month  pickup_weekday  \\\n",
       "879655            8            9             1              1               4   \n",
       "646838            5            5             3              3               5   \n",
       "1138713           9            9             4              4               5   \n",
       "864716            6            6             1              1               2   \n",
       "434927           26           26             6              6               6   \n",
       "\n",
       "         dropoff_weekday  calc_trip_duration  trip_distance  \\\n",
       "879655                 5               561.0       1.875964   \n",
       "646838                 5               486.0       1.539475   \n",
       "1138713                5              1049.0       4.658508   \n",
       "864716                 2               425.0       1.480942   \n",
       "434927                 6               408.0       1.813886   \n",
       "\n",
       "         pickup_timeofday_Afternoon  pickup_timeofday_Evening  \\\n",
       "879655                            0                         0   \n",
       "646838                            0                         0   \n",
       "1138713                           0                         1   \n",
       "864716                            0                         0   \n",
       "434927                            0                         0   \n",
       "\n",
       "         pickup_timeofday_Morning  pickup_timeofday_Night  \n",
       "879655                          0                       1  \n",
       "646838                          1                       0  \n",
       "1138713                         0                       0  \n",
       "864716                          1                       0  \n",
       "434927                          1                       0  "
      ]
     },
     "execution_count": 37,
     "metadata": {},
     "output_type": "execute_result"
    }
   ],
   "source": [
    "X_train_df.drop(columns=['pickup_timeofday'], inplace=True)\n",
    "X_train_df.head()"
   ]
  },
  {
   "cell_type": "code",
   "execution_count": 38,
   "metadata": {},
   "outputs": [],
   "source": [
    "\n",
    "\n",
    "copy_df = X_train_df.copy()\n",
    "\n",
    "copy_df = copy_df.drop('calc_trip_duration',axis=1)\n",
    "\n",
    "\n",
    "lst_column = copy_df.pop('trip_duration')\n",
    " \n",
    "copy_df.insert(len(copy_df.columns), 'trip_duration', lst_column)\n",
    " \n",
    "# Select only numeric columns\n",
    "numeric_df = copy_df.select_dtypes(include=['number'])\n",
    "\n",
    "#copy_df.dtypes\n"
   ]
  },
  {
   "cell_type": "code",
   "execution_count": 39,
   "metadata": {},
   "outputs": [
    {
     "data": {
      "image/png": "[encoded data removed]",
      "text/plain": [
       "<Figure size 1600x1600 with 2 Axes>"
      ]
     },
     "metadata": {},
     "output_type": "display_data"
    }
   ],
   "source": [
    "# Compute the correlation matrix\n",
    "corr_matrix = numeric_df.corr()\n",
    "\n",
    "sns.set_style(\"whitegrid\") # set the seaborn style\n",
    "plt.figure(figsize=(16, 16)) # figure the size\n",
    "sns.heatmap(corr_matrix, annot=True,) # create a heatmap\n",
    "plt.title(\"Taxi Data Correlation\", weight=\"bold\", fontsize=30, fontname=\"monospace\", pad=30) # title\n",
    "plt.xticks(weight=\"bold\", fontsize=15) # x-ticks\n",
    "plt.yticks(weight=\"bold\", fontsize=15); # y-ticks\n"
   ]
  },
  {
   "cell_type": "code",
   "execution_count": 40,
   "metadata": {},
   "outputs": [
    {
     "data": {
      "text/html": [
       "<div>\n",
       "<style scoped>\n",
       "    .dataframe tbody tr th:only-of-type {\n",
       "        vertical-align: middle;\n",
       "    }\n",
       "\n",
       "    .dataframe tbody tr th {\n",
       "        vertical-align: top;\n",
       "    }\n",
       "\n",
       "    .dataframe thead th {\n",
       "        text-align: right;\n",
       "    }\n",
       "</style>\n",
       "<table border=\"1\" class=\"dataframe\">\n",
       "  <thead>\n",
       "    <tr style=\"text-align: right;\">\n",
       "      <th></th>\n",
       "      <th>id</th>\n",
       "      <th>vendor_id</th>\n",
       "      <th>pickup_datetime</th>\n",
       "      <th>dropoff_datetime</th>\n",
       "      <th>passenger_count</th>\n",
       "      <th>pickup_longitude</th>\n",
       "      <th>pickup_latitude</th>\n",
       "      <th>dropoff_longitude</th>\n",
       "      <th>dropoff_latitude</th>\n",
       "      <th>store_and_fwd_flag</th>\n",
       "      <th>trip_duration</th>\n",
       "      <th>pickup_hour</th>\n",
       "      <th>dropoff_hour</th>\n",
       "      <th>dropoff_timeofday</th>\n",
       "      <th>pickup_day</th>\n",
       "      <th>dropoff_day</th>\n",
       "      <th>pickup_month</th>\n",
       "      <th>dropoff_month</th>\n",
       "      <th>pickup_weekday</th>\n",
       "      <th>dropoff_weekday</th>\n",
       "      <th>calc_trip_duration</th>\n",
       "      <th>trip_distance</th>\n",
       "      <th>pickup_timeofday_Afternoon</th>\n",
       "      <th>pickup_timeofday_Evening</th>\n",
       "      <th>pickup_timeofday_Morning</th>\n",
       "      <th>pickup_timeofday_Night</th>\n",
       "    </tr>\n",
       "  </thead>\n",
       "  <tbody>\n",
       "    <tr>\n",
       "      <th>879655</th>\n",
       "      <td>id2425795</td>\n",
       "      <td>1</td>\n",
       "      <td>2016-01-08 23:55:11</td>\n",
       "      <td>2016-01-09 00:04:32</td>\n",
       "      <td>1</td>\n",
       "      <td>-73.955551</td>\n",
       "      <td>40.773346</td>\n",
       "      <td>-73.973640</td>\n",
       "      <td>40.763500</td>\n",
       "      <td>N</td>\n",
       "      <td>561</td>\n",
       "      <td>23</td>\n",
       "      <td>0</td>\n",
       "      <td>Night</td>\n",
       "      <td>8</td>\n",
       "      <td>9</td>\n",
       "      <td>1</td>\n",
       "      <td>1</td>\n",
       "      <td>4</td>\n",
       "      <td>5</td>\n",
       "      <td>561.0</td>\n",
       "      <td>1.875964</td>\n",
       "      <td>0</td>\n",
       "      <td>0</td>\n",
       "      <td>0</td>\n",
       "      <td>1</td>\n",
       "    </tr>\n",
       "    <tr>\n",
       "      <th>646838</th>\n",
       "      <td>id0767831</td>\n",
       "      <td>2</td>\n",
       "      <td>2016-03-05 09:52:06</td>\n",
       "      <td>2016-03-05 10:00:12</td>\n",
       "      <td>1</td>\n",
       "      <td>-73.962181</td>\n",
       "      <td>40.763599</td>\n",
       "      <td>-73.980377</td>\n",
       "      <td>40.764919</td>\n",
       "      <td>N</td>\n",
       "      <td>486</td>\n",
       "      <td>9</td>\n",
       "      <td>10</td>\n",
       "      <td>Morning</td>\n",
       "      <td>5</td>\n",
       "      <td>5</td>\n",
       "      <td>3</td>\n",
       "      <td>3</td>\n",
       "      <td>5</td>\n",
       "      <td>5</td>\n",
       "      <td>486.0</td>\n",
       "      <td>1.539475</td>\n",
       "      <td>0</td>\n",
       "      <td>0</td>\n",
       "      <td>1</td>\n",
       "      <td>0</td>\n",
       "    </tr>\n",
       "    <tr>\n",
       "      <th>1138713</th>\n",
       "      <td>id0449104</td>\n",
       "      <td>1</td>\n",
       "      <td>2016-04-09 16:03:53</td>\n",
       "      <td>2016-04-09 16:21:22</td>\n",
       "      <td>1</td>\n",
       "      <td>-73.977486</td>\n",
       "      <td>40.751842</td>\n",
       "      <td>-74.011688</td>\n",
       "      <td>40.718925</td>\n",
       "      <td>N</td>\n",
       "      <td>1049</td>\n",
       "      <td>16</td>\n",
       "      <td>16</td>\n",
       "      <td>Evening</td>\n",
       "      <td>9</td>\n",
       "      <td>9</td>\n",
       "      <td>4</td>\n",
       "      <td>4</td>\n",
       "      <td>5</td>\n",
       "      <td>5</td>\n",
       "      <td>1049.0</td>\n",
       "      <td>4.658508</td>\n",
       "      <td>0</td>\n",
       "      <td>1</td>\n",
       "      <td>0</td>\n",
       "      <td>0</td>\n",
       "    </tr>\n",
       "    <tr>\n",
       "      <th>864716</th>\n",
       "      <td>id3030157</td>\n",
       "      <td>1</td>\n",
       "      <td>2016-01-06 11:12:44</td>\n",
       "      <td>2016-01-06 11:19:49</td>\n",
       "      <td>1</td>\n",
       "      <td>-73.970001</td>\n",
       "      <td>40.762363</td>\n",
       "      <td>-73.963264</td>\n",
       "      <td>40.774666</td>\n",
       "      <td>N</td>\n",
       "      <td>425</td>\n",
       "      <td>11</td>\n",
       "      <td>11</td>\n",
       "      <td>Morning</td>\n",
       "      <td>6</td>\n",
       "      <td>6</td>\n",
       "      <td>1</td>\n",
       "      <td>1</td>\n",
       "      <td>2</td>\n",
       "      <td>2</td>\n",
       "      <td>425.0</td>\n",
       "      <td>1.480942</td>\n",
       "      <td>0</td>\n",
       "      <td>0</td>\n",
       "      <td>1</td>\n",
       "      <td>0</td>\n",
       "    </tr>\n",
       "    <tr>\n",
       "      <th>434927</th>\n",
       "      <td>id1584885</td>\n",
       "      <td>1</td>\n",
       "      <td>2016-06-26 09:10:56</td>\n",
       "      <td>2016-06-26 09:17:44</td>\n",
       "      <td>1</td>\n",
       "      <td>-73.950348</td>\n",
       "      <td>40.771561</td>\n",
       "      <td>-73.968178</td>\n",
       "      <td>40.762409</td>\n",
       "      <td>N</td>\n",
       "      <td>408</td>\n",
       "      <td>9</td>\n",
       "      <td>9</td>\n",
       "      <td>Morning</td>\n",
       "      <td>26</td>\n",
       "      <td>26</td>\n",
       "      <td>6</td>\n",
       "      <td>6</td>\n",
       "      <td>6</td>\n",
       "      <td>6</td>\n",
       "      <td>408.0</td>\n",
       "      <td>1.813886</td>\n",
       "      <td>0</td>\n",
       "      <td>0</td>\n",
       "      <td>1</td>\n",
       "      <td>0</td>\n",
       "    </tr>\n",
       "  </tbody>\n",
       "</table>\n",
       "</div>"
      ],
      "text/plain": [
       "                id  vendor_id     pickup_datetime    dropoff_datetime  \\\n",
       "879655   id2425795          1 2016-01-08 23:55:11 2016-01-09 00:04:32   \n",
       "646838   id0767831          2 2016-03-05 09:52:06 2016-03-05 10:00:12   \n",
       "1138713  id0449104          1 2016-04-09 16:03:53 2016-04-09 16:21:22   \n",
       "864716   id3030157          1 2016-01-06 11:12:44 2016-01-06 11:19:49   \n",
       "434927   id1584885          1 2016-06-26 09:10:56 2016-06-26 09:17:44   \n",
       "\n",
       "         passenger_count  pickup_longitude  pickup_latitude  \\\n",
       "879655                 1        -73.955551        40.773346   \n",
       "646838                 1        -73.962181        40.763599   \n",
       "1138713                1        -73.977486        40.751842   \n",
       "864716                 1        -73.970001        40.762363   \n",
       "434927                 1        -73.950348        40.771561   \n",
       "\n",
       "         dropoff_longitude  dropoff_latitude store_and_fwd_flag  \\\n",
       "879655          -73.973640         40.763500                  N   \n",
       "646838          -73.980377         40.764919                  N   \n",
       "1138713         -74.011688         40.718925                  N   \n",
       "864716          -73.963264         40.774666                  N   \n",
       "434927          -73.968178         40.762409                  N   \n",
       "\n",
       "         trip_duration  pickup_hour  dropoff_hour dropoff_timeofday  \\\n",
       "879655             561           23             0             Night   \n",
       "646838             486            9            10           Morning   \n",
       "1138713           1049           16            16           Evening   \n",
       "864716             425           11            11           Morning   \n",
       "434927             408            9             9           Morning   \n",
       "\n",
       "         pickup_day  dropoff_day  pickup_month  dropoff_month  pickup_weekday  \\\n",
       "879655            8            9             1              1               4   \n",
       "646838            5            5             3              3               5   \n",
       "1138713           9            9             4              4               5   \n",
       "864716            6            6             1              1               2   \n",
       "434927           26           26             6              6               6   \n",
       "\n",
       "         dropoff_weekday  calc_trip_duration  trip_distance  \\\n",
       "879655                 5               561.0       1.875964   \n",
       "646838                 5               486.0       1.539475   \n",
       "1138713                5              1049.0       4.658508   \n",
       "864716                 2               425.0       1.480942   \n",
       "434927                 6               408.0       1.813886   \n",
       "\n",
       "         pickup_timeofday_Afternoon  pickup_timeofday_Evening  \\\n",
       "879655                            0                         0   \n",
       "646838                            0                         0   \n",
       "1138713                           0                         1   \n",
       "864716                            0                         0   \n",
       "434927                            0                         0   \n",
       "\n",
       "         pickup_timeofday_Morning  pickup_timeofday_Night  \n",
       "879655                          0                       1  \n",
       "646838                          1                       0  \n",
       "1138713                         0                       0  \n",
       "864716                          1                       0  \n",
       "434927                          1                       0  "
      ]
     },
     "execution_count": 40,
     "metadata": {},
     "output_type": "execute_result"
    }
   ],
   "source": [
    "X_train_df.head()"
   ]
  },
  {
   "cell_type": "code",
   "execution_count": null,
   "metadata": {},
   "outputs": [],
   "source": [
    "\n"
   ]
  },
  {
   "cell_type": "markdown",
   "metadata": {},
   "source": [
    "### Selecting final features"
   ]
  },
  {
   "cell_type": "code",
   "execution_count": 41,
   "metadata": {},
   "outputs": [
    {
     "data": {
      "text/html": [
       "<div>\n",
       "<style scoped>\n",
       "    .dataframe tbody tr th:only-of-type {\n",
       "        vertical-align: middle;\n",
       "    }\n",
       "\n",
       "    .dataframe tbody tr th {\n",
       "        vertical-align: top;\n",
       "    }\n",
       "\n",
       "    .dataframe thead th {\n",
       "        text-align: right;\n",
       "    }\n",
       "</style>\n",
       "<table border=\"1\" class=\"dataframe\">\n",
       "  <thead>\n",
       "    <tr style=\"text-align: right;\">\n",
       "      <th></th>\n",
       "      <th>passenger_count</th>\n",
       "      <th>pickup_longitude</th>\n",
       "      <th>pickup_latitude</th>\n",
       "      <th>dropoff_longitude</th>\n",
       "      <th>dropoff_latitude</th>\n",
       "      <th>pickup_hour</th>\n",
       "      <th>pickup_month</th>\n",
       "      <th>pickup_weekday</th>\n",
       "      <th>trip_distance</th>\n",
       "      <th>pickup_timeofday_Afternoon</th>\n",
       "    </tr>\n",
       "  </thead>\n",
       "  <tbody>\n",
       "    <tr>\n",
       "      <th>879655</th>\n",
       "      <td>1</td>\n",
       "      <td>-73.955551</td>\n",
       "      <td>40.773346</td>\n",
       "      <td>-73.973640</td>\n",
       "      <td>40.763500</td>\n",
       "      <td>23</td>\n",
       "      <td>1</td>\n",
       "      <td>4</td>\n",
       "      <td>1.875964</td>\n",
       "      <td>0</td>\n",
       "    </tr>\n",
       "    <tr>\n",
       "      <th>646838</th>\n",
       "      <td>1</td>\n",
       "      <td>-73.962181</td>\n",
       "      <td>40.763599</td>\n",
       "      <td>-73.980377</td>\n",
       "      <td>40.764919</td>\n",
       "      <td>9</td>\n",
       "      <td>3</td>\n",
       "      <td>5</td>\n",
       "      <td>1.539475</td>\n",
       "      <td>0</td>\n",
       "    </tr>\n",
       "    <tr>\n",
       "      <th>1138713</th>\n",
       "      <td>1</td>\n",
       "      <td>-73.977486</td>\n",
       "      <td>40.751842</td>\n",
       "      <td>-74.011688</td>\n",
       "      <td>40.718925</td>\n",
       "      <td>16</td>\n",
       "      <td>4</td>\n",
       "      <td>5</td>\n",
       "      <td>4.658508</td>\n",
       "      <td>0</td>\n",
       "    </tr>\n",
       "    <tr>\n",
       "      <th>864716</th>\n",
       "      <td>1</td>\n",
       "      <td>-73.970001</td>\n",
       "      <td>40.762363</td>\n",
       "      <td>-73.963264</td>\n",
       "      <td>40.774666</td>\n",
       "      <td>11</td>\n",
       "      <td>1</td>\n",
       "      <td>2</td>\n",
       "      <td>1.480942</td>\n",
       "      <td>0</td>\n",
       "    </tr>\n",
       "    <tr>\n",
       "      <th>434927</th>\n",
       "      <td>1</td>\n",
       "      <td>-73.950348</td>\n",
       "      <td>40.771561</td>\n",
       "      <td>-73.968178</td>\n",
       "      <td>40.762409</td>\n",
       "      <td>9</td>\n",
       "      <td>6</td>\n",
       "      <td>6</td>\n",
       "      <td>1.813886</td>\n",
       "      <td>0</td>\n",
       "    </tr>\n",
       "  </tbody>\n",
       "</table>\n",
       "</div>"
      ],
      "text/plain": [
       "         passenger_count  pickup_longitude  pickup_latitude  \\\n",
       "879655                 1        -73.955551        40.773346   \n",
       "646838                 1        -73.962181        40.763599   \n",
       "1138713                1        -73.977486        40.751842   \n",
       "864716                 1        -73.970001        40.762363   \n",
       "434927                 1        -73.950348        40.771561   \n",
       "\n",
       "         dropoff_longitude  dropoff_latitude  pickup_hour  pickup_month  \\\n",
       "879655          -73.973640         40.763500           23             1   \n",
       "646838          -73.980377         40.764919            9             3   \n",
       "1138713         -74.011688         40.718925           16             4   \n",
       "864716          -73.963264         40.774666           11             1   \n",
       "434927          -73.968178         40.762409            9             6   \n",
       "\n",
       "         pickup_weekday  trip_distance  pickup_timeofday_Afternoon  \n",
       "879655                4       1.875964                           0  \n",
       "646838                5       1.539475                           0  \n",
       "1138713               5       4.658508                           0  \n",
       "864716                2       1.480942                           0  \n",
       "434927                6       1.813886                           0  "
      ]
     },
     "execution_count": 41,
     "metadata": {},
     "output_type": "execute_result"
    }
   ],
   "source": [
    "drop_features = ['trip_duration','id','vendor_id','pickup_datetime','dropoff_datetime','store_and_fwd_flag','calc_trip_duration','dropoff_hour','dropoff_timeofday','dropoff_day','dropoff_month','dropoff_weekday', 'pickup_day', 'pickup_timeofday_Evening', 'pickup_timeofday_Morning','pickup_timeofday_Night']\n",
    "\n",
    "x_train = X_train_df.drop(drop_features,axis=1)\n",
    "y_train = X_train_df['trip_duration']\n",
    "\n",
    "\n",
    "x_train.head()\n"
   ]
  },
  {
   "cell_type": "code",
   "execution_count": 42,
   "metadata": {},
   "outputs": [
    {
     "name": "stdout",
     "output_type": "stream",
     "text": [
      "(1173246, 10)\n",
      "(1173246,)\n"
     ]
    }
   ],
   "source": [
    "print(x_train.shape)\n",
    "\n",
    "print(y_train.shape)\n"
   ]
  },
  {
   "cell_type": "markdown",
   "metadata": {},
   "source": [
    "## Cleaning Test Set"
   ]
  },
  {
   "cell_type": "code",
   "execution_count": 43,
   "metadata": {},
   "outputs": [
    {
     "name": "stdout",
     "output_type": "stream",
     "text": [
      "(145865, 10)\n"
     ]
    },
    {
     "data": {
      "text/html": [
       "<div>\n",
       "<style scoped>\n",
       "    .dataframe tbody tr th:only-of-type {\n",
       "        vertical-align: middle;\n",
       "    }\n",
       "\n",
       "    .dataframe tbody tr th {\n",
       "        vertical-align: top;\n",
       "    }\n",
       "\n",
       "    .dataframe thead th {\n",
       "        text-align: right;\n",
       "    }\n",
       "</style>\n",
       "<table border=\"1\" class=\"dataframe\">\n",
       "  <thead>\n",
       "    <tr style=\"text-align: right;\">\n",
       "      <th></th>\n",
       "      <th>id</th>\n",
       "      <th>vendor_id</th>\n",
       "      <th>pickup_datetime</th>\n",
       "      <th>dropoff_datetime</th>\n",
       "      <th>passenger_count</th>\n",
       "      <th>pickup_longitude</th>\n",
       "      <th>pickup_latitude</th>\n",
       "      <th>dropoff_longitude</th>\n",
       "      <th>dropoff_latitude</th>\n",
       "      <th>store_and_fwd_flag</th>\n",
       "    </tr>\n",
       "  </thead>\n",
       "  <tbody>\n",
       "    <tr>\n",
       "      <th>67250</th>\n",
       "      <td>id2793718</td>\n",
       "      <td>2</td>\n",
       "      <td>2016-06-08 07:36:19</td>\n",
       "      <td>2016-06-08 07:53:39</td>\n",
       "      <td>1</td>\n",
       "      <td>-73.985611</td>\n",
       "      <td>40.735943</td>\n",
       "      <td>-73.980331</td>\n",
       "      <td>40.760468</td>\n",
       "      <td>N</td>\n",
       "    </tr>\n",
       "    <tr>\n",
       "      <th>1397036</th>\n",
       "      <td>id3485529</td>\n",
       "      <td>2</td>\n",
       "      <td>2016-04-03 12:58:11</td>\n",
       "      <td>2016-04-03 13:11:58</td>\n",
       "      <td>1</td>\n",
       "      <td>-73.978394</td>\n",
       "      <td>40.764351</td>\n",
       "      <td>-73.991623</td>\n",
       "      <td>40.749859</td>\n",
       "      <td>N</td>\n",
       "    </tr>\n",
       "    <tr>\n",
       "      <th>1021087</th>\n",
       "      <td>id1816614</td>\n",
       "      <td>2</td>\n",
       "      <td>2016-06-05 02:49:13</td>\n",
       "      <td>2016-06-05 02:59:27</td>\n",
       "      <td>5</td>\n",
       "      <td>-73.989059</td>\n",
       "      <td>40.744389</td>\n",
       "      <td>-73.973381</td>\n",
       "      <td>40.748692</td>\n",
       "      <td>N</td>\n",
       "    </tr>\n",
       "    <tr>\n",
       "      <th>951424</th>\n",
       "      <td>id1050851</td>\n",
       "      <td>2</td>\n",
       "      <td>2016-05-05 17:18:27</td>\n",
       "      <td>2016-05-05 17:32:54</td>\n",
       "      <td>2</td>\n",
       "      <td>-73.990326</td>\n",
       "      <td>40.731136</td>\n",
       "      <td>-73.991264</td>\n",
       "      <td>40.748917</td>\n",
       "      <td>N</td>\n",
       "    </tr>\n",
       "    <tr>\n",
       "      <th>707882</th>\n",
       "      <td>id0140657</td>\n",
       "      <td>1</td>\n",
       "      <td>2016-05-12 17:43:38</td>\n",
       "      <td>2016-05-12 19:06:25</td>\n",
       "      <td>4</td>\n",
       "      <td>-73.789497</td>\n",
       "      <td>40.646675</td>\n",
       "      <td>-73.987137</td>\n",
       "      <td>40.759232</td>\n",
       "      <td>N</td>\n",
       "    </tr>\n",
       "  </tbody>\n",
       "</table>\n",
       "</div>"
      ],
      "text/plain": [
       "                id  vendor_id      pickup_datetime     dropoff_datetime  \\\n",
       "67250    id2793718          2  2016-06-08 07:36:19  2016-06-08 07:53:39   \n",
       "1397036  id3485529          2  2016-04-03 12:58:11  2016-04-03 13:11:58   \n",
       "1021087  id1816614          2  2016-06-05 02:49:13  2016-06-05 02:59:27   \n",
       "951424   id1050851          2  2016-05-05 17:18:27  2016-05-05 17:32:54   \n",
       "707882   id0140657          1  2016-05-12 17:43:38  2016-05-12 19:06:25   \n",
       "\n",
       "         passenger_count  pickup_longitude  pickup_latitude  \\\n",
       "67250                  1        -73.985611        40.735943   \n",
       "1397036                1        -73.978394        40.764351   \n",
       "1021087                5        -73.989059        40.744389   \n",
       "951424                 2        -73.990326        40.731136   \n",
       "707882                 4        -73.789497        40.646675   \n",
       "\n",
       "         dropoff_longitude  dropoff_latitude store_and_fwd_flag  \n",
       "67250           -73.980331         40.760468                  N  \n",
       "1397036         -73.991623         40.749859                  N  \n",
       "1021087         -73.973381         40.748692                  N  \n",
       "951424          -73.991264         40.748917                  N  \n",
       "707882          -73.987137         40.759232                  N  "
      ]
     },
     "execution_count": 43,
     "metadata": {},
     "output_type": "execute_result"
    }
   ],
   "source": [
    "print(X_test.shape)\n",
    "\n",
    "X_test_pd = pd.DataFrame(X_test)\n",
    "\n",
    "X_test_pd.head()"
   ]
  },
  {
   "cell_type": "code",
   "execution_count": 44,
   "metadata": {},
   "outputs": [
    {
     "name": "stdout",
     "output_type": "stream",
     "text": [
      "(145865,)\n"
     ]
    },
    {
     "data": {
      "text/html": [
       "<div>\n",
       "<style scoped>\n",
       "    .dataframe tbody tr th:only-of-type {\n",
       "        vertical-align: middle;\n",
       "    }\n",
       "\n",
       "    .dataframe tbody tr th {\n",
       "        vertical-align: top;\n",
       "    }\n",
       "\n",
       "    .dataframe thead th {\n",
       "        text-align: right;\n",
       "    }\n",
       "</style>\n",
       "<table border=\"1\" class=\"dataframe\">\n",
       "  <thead>\n",
       "    <tr style=\"text-align: right;\">\n",
       "      <th></th>\n",
       "      <th>trip_duration</th>\n",
       "    </tr>\n",
       "  </thead>\n",
       "  <tbody>\n",
       "    <tr>\n",
       "      <th>67250</th>\n",
       "      <td>1040</td>\n",
       "    </tr>\n",
       "    <tr>\n",
       "      <th>1397036</th>\n",
       "      <td>827</td>\n",
       "    </tr>\n",
       "    <tr>\n",
       "      <th>1021087</th>\n",
       "      <td>614</td>\n",
       "    </tr>\n",
       "    <tr>\n",
       "      <th>951424</th>\n",
       "      <td>867</td>\n",
       "    </tr>\n",
       "    <tr>\n",
       "      <th>707882</th>\n",
       "      <td>4967</td>\n",
       "    </tr>\n",
       "    <tr>\n",
       "      <th>1432685</th>\n",
       "      <td>374</td>\n",
       "    </tr>\n",
       "    <tr>\n",
       "      <th>528407</th>\n",
       "      <td>1252</td>\n",
       "    </tr>\n",
       "    <tr>\n",
       "      <th>1217989</th>\n",
       "      <td>148</td>\n",
       "    </tr>\n",
       "    <tr>\n",
       "      <th>1165122</th>\n",
       "      <td>1499</td>\n",
       "    </tr>\n",
       "    <tr>\n",
       "      <th>1324437</th>\n",
       "      <td>1017</td>\n",
       "    </tr>\n",
       "  </tbody>\n",
       "</table>\n",
       "</div>"
      ],
      "text/plain": [
       "         trip_duration\n",
       "67250             1040\n",
       "1397036            827\n",
       "1021087            614\n",
       "951424             867\n",
       "707882            4967\n",
       "1432685            374\n",
       "528407            1252\n",
       "1217989            148\n",
       "1165122           1499\n",
       "1324437           1017"
      ]
     },
     "execution_count": 44,
     "metadata": {},
     "output_type": "execute_result"
    }
   ],
   "source": [
    "print(y_test.shape)\n",
    "y_test_pd = pd.DataFrame(y_test)\n",
    "\n",
    "y_test_pd.head(10)"
   ]
  },
  {
   "cell_type": "markdown",
   "metadata": {},
   "source": [
    "### Concatenate x-test and y-test"
   ]
  },
  {
   "cell_type": "code",
   "execution_count": 45,
   "metadata": {},
   "outputs": [
    {
     "data": {
      "text/html": [
       "<div>\n",
       "<style scoped>\n",
       "    .dataframe tbody tr th:only-of-type {\n",
       "        vertical-align: middle;\n",
       "    }\n",
       "\n",
       "    .dataframe tbody tr th {\n",
       "        vertical-align: top;\n",
       "    }\n",
       "\n",
       "    .dataframe thead th {\n",
       "        text-align: right;\n",
       "    }\n",
       "</style>\n",
       "<table border=\"1\" class=\"dataframe\">\n",
       "  <thead>\n",
       "    <tr style=\"text-align: right;\">\n",
       "      <th></th>\n",
       "      <th>id</th>\n",
       "      <th>vendor_id</th>\n",
       "      <th>pickup_datetime</th>\n",
       "      <th>dropoff_datetime</th>\n",
       "      <th>passenger_count</th>\n",
       "      <th>pickup_longitude</th>\n",
       "      <th>pickup_latitude</th>\n",
       "      <th>dropoff_longitude</th>\n",
       "      <th>dropoff_latitude</th>\n",
       "      <th>store_and_fwd_flag</th>\n",
       "      <th>trip_duration</th>\n",
       "    </tr>\n",
       "  </thead>\n",
       "  <tbody>\n",
       "    <tr>\n",
       "      <th>67250</th>\n",
       "      <td>id2793718</td>\n",
       "      <td>2</td>\n",
       "      <td>2016-06-08 07:36:19</td>\n",
       "      <td>2016-06-08 07:53:39</td>\n",
       "      <td>1</td>\n",
       "      <td>-73.985611</td>\n",
       "      <td>40.735943</td>\n",
       "      <td>-73.980331</td>\n",
       "      <td>40.760468</td>\n",
       "      <td>N</td>\n",
       "      <td>1040</td>\n",
       "    </tr>\n",
       "    <tr>\n",
       "      <th>1397036</th>\n",
       "      <td>id3485529</td>\n",
       "      <td>2</td>\n",
       "      <td>2016-04-03 12:58:11</td>\n",
       "      <td>2016-04-03 13:11:58</td>\n",
       "      <td>1</td>\n",
       "      <td>-73.978394</td>\n",
       "      <td>40.764351</td>\n",
       "      <td>-73.991623</td>\n",
       "      <td>40.749859</td>\n",
       "      <td>N</td>\n",
       "      <td>827</td>\n",
       "    </tr>\n",
       "    <tr>\n",
       "      <th>1021087</th>\n",
       "      <td>id1816614</td>\n",
       "      <td>2</td>\n",
       "      <td>2016-06-05 02:49:13</td>\n",
       "      <td>2016-06-05 02:59:27</td>\n",
       "      <td>5</td>\n",
       "      <td>-73.989059</td>\n",
       "      <td>40.744389</td>\n",
       "      <td>-73.973381</td>\n",
       "      <td>40.748692</td>\n",
       "      <td>N</td>\n",
       "      <td>614</td>\n",
       "    </tr>\n",
       "    <tr>\n",
       "      <th>951424</th>\n",
       "      <td>id1050851</td>\n",
       "      <td>2</td>\n",
       "      <td>2016-05-05 17:18:27</td>\n",
       "      <td>2016-05-05 17:32:54</td>\n",
       "      <td>2</td>\n",
       "      <td>-73.990326</td>\n",
       "      <td>40.731136</td>\n",
       "      <td>-73.991264</td>\n",
       "      <td>40.748917</td>\n",
       "      <td>N</td>\n",
       "      <td>867</td>\n",
       "    </tr>\n",
       "    <tr>\n",
       "      <th>707882</th>\n",
       "      <td>id0140657</td>\n",
       "      <td>1</td>\n",
       "      <td>2016-05-12 17:43:38</td>\n",
       "      <td>2016-05-12 19:06:25</td>\n",
       "      <td>4</td>\n",
       "      <td>-73.789497</td>\n",
       "      <td>40.646675</td>\n",
       "      <td>-73.987137</td>\n",
       "      <td>40.759232</td>\n",
       "      <td>N</td>\n",
       "      <td>4967</td>\n",
       "    </tr>\n",
       "  </tbody>\n",
       "</table>\n",
       "</div>"
      ],
      "text/plain": [
       "                id  vendor_id      pickup_datetime     dropoff_datetime  \\\n",
       "67250    id2793718          2  2016-06-08 07:36:19  2016-06-08 07:53:39   \n",
       "1397036  id3485529          2  2016-04-03 12:58:11  2016-04-03 13:11:58   \n",
       "1021087  id1816614          2  2016-06-05 02:49:13  2016-06-05 02:59:27   \n",
       "951424   id1050851          2  2016-05-05 17:18:27  2016-05-05 17:32:54   \n",
       "707882   id0140657          1  2016-05-12 17:43:38  2016-05-12 19:06:25   \n",
       "\n",
       "         passenger_count  pickup_longitude  pickup_latitude  \\\n",
       "67250                  1        -73.985611        40.735943   \n",
       "1397036                1        -73.978394        40.764351   \n",
       "1021087                5        -73.989059        40.744389   \n",
       "951424                 2        -73.990326        40.731136   \n",
       "707882                 4        -73.789497        40.646675   \n",
       "\n",
       "         dropoff_longitude  dropoff_latitude store_and_fwd_flag  trip_duration  \n",
       "67250           -73.980331         40.760468                  N           1040  \n",
       "1397036         -73.991623         40.749859                  N            827  \n",
       "1021087         -73.973381         40.748692                  N            614  \n",
       "951424          -73.991264         40.748917                  N            867  \n",
       "707882          -73.987137         40.759232                  N           4967  "
      ]
     },
     "execution_count": 45,
     "metadata": {},
     "output_type": "execute_result"
    }
   ],
   "source": [
    "\n",
    "y_new_pd = pd.concat([X_test_pd,y_test_pd],axis =1)\n",
    "\n",
    "y_new_pd.head()\n"
   ]
  },
  {
   "cell_type": "markdown",
   "metadata": {},
   "source": [
    "### Check for null"
   ]
  },
  {
   "cell_type": "code",
   "execution_count": 46,
   "metadata": {},
   "outputs": [
    {
     "data": {
      "text/plain": [
       "id                    0\n",
       "vendor_id             0\n",
       "pickup_datetime       0\n",
       "dropoff_datetime      0\n",
       "passenger_count       0\n",
       "pickup_longitude      0\n",
       "pickup_latitude       0\n",
       "dropoff_longitude     0\n",
       "dropoff_latitude      0\n",
       "store_and_fwd_flag    0\n",
       "trip_duration         0\n",
       "dtype: int64"
      ]
     },
     "execution_count": 46,
     "metadata": {},
     "output_type": "execute_result"
    }
   ],
   "source": [
    "y_new_pd.isnull().sum()"
   ]
  },
  {
   "cell_type": "markdown",
   "metadata": {},
   "source": [
    "### Pre-processing Test Set"
   ]
  },
  {
   "cell_type": "code",
   "execution_count": 47,
   "metadata": {},
   "outputs": [
    {
     "data": {
      "text/html": [
       "<div>\n",
       "<style scoped>\n",
       "    .dataframe tbody tr th:only-of-type {\n",
       "        vertical-align: middle;\n",
       "    }\n",
       "\n",
       "    .dataframe tbody tr th {\n",
       "        vertical-align: top;\n",
       "    }\n",
       "\n",
       "    .dataframe thead th {\n",
       "        text-align: right;\n",
       "    }\n",
       "</style>\n",
       "<table border=\"1\" class=\"dataframe\">\n",
       "  <thead>\n",
       "    <tr style=\"text-align: right;\">\n",
       "      <th></th>\n",
       "      <th>id</th>\n",
       "      <th>vendor_id</th>\n",
       "      <th>pickup_datetime</th>\n",
       "      <th>dropoff_datetime</th>\n",
       "      <th>passenger_count</th>\n",
       "      <th>pickup_longitude</th>\n",
       "      <th>pickup_latitude</th>\n",
       "      <th>dropoff_longitude</th>\n",
       "      <th>dropoff_latitude</th>\n",
       "      <th>store_and_fwd_flag</th>\n",
       "      <th>trip_duration</th>\n",
       "      <th>pickup_hour</th>\n",
       "      <th>dropoff_hour</th>\n",
       "      <th>pickup_timeofday</th>\n",
       "      <th>dropoff_timeofday</th>\n",
       "      <th>pickup_day</th>\n",
       "      <th>dropoff_day</th>\n",
       "      <th>pickup_month</th>\n",
       "      <th>dropoff_month</th>\n",
       "      <th>pickup_weekday</th>\n",
       "      <th>dropoff_weekday</th>\n",
       "      <th>calc_trip_duration</th>\n",
       "      <th>trip_distance</th>\n",
       "    </tr>\n",
       "  </thead>\n",
       "  <tbody>\n",
       "    <tr>\n",
       "      <th>67250</th>\n",
       "      <td>id2793718</td>\n",
       "      <td>2</td>\n",
       "      <td>2016-06-08 07:36:19</td>\n",
       "      <td>2016-06-08 07:53:39</td>\n",
       "      <td>1</td>\n",
       "      <td>-73.985611</td>\n",
       "      <td>40.735943</td>\n",
       "      <td>-73.980331</td>\n",
       "      <td>40.760468</td>\n",
       "      <td>N</td>\n",
       "      <td>1040</td>\n",
       "      <td>7</td>\n",
       "      <td>7</td>\n",
       "      <td>Morning</td>\n",
       "      <td>Morning</td>\n",
       "      <td>8</td>\n",
       "      <td>8</td>\n",
       "      <td>6</td>\n",
       "      <td>6</td>\n",
       "      <td>2</td>\n",
       "      <td>2</td>\n",
       "      <td>1040.0</td>\n",
       "      <td>2.763050</td>\n",
       "    </tr>\n",
       "    <tr>\n",
       "      <th>1397036</th>\n",
       "      <td>id3485529</td>\n",
       "      <td>2</td>\n",
       "      <td>2016-04-03 12:58:11</td>\n",
       "      <td>2016-04-03 13:11:58</td>\n",
       "      <td>1</td>\n",
       "      <td>-73.978394</td>\n",
       "      <td>40.764351</td>\n",
       "      <td>-73.991623</td>\n",
       "      <td>40.749859</td>\n",
       "      <td>N</td>\n",
       "      <td>827</td>\n",
       "      <td>12</td>\n",
       "      <td>13</td>\n",
       "      <td>Afternoon</td>\n",
       "      <td>Afternoon</td>\n",
       "      <td>3</td>\n",
       "      <td>3</td>\n",
       "      <td>4</td>\n",
       "      <td>4</td>\n",
       "      <td>6</td>\n",
       "      <td>6</td>\n",
       "      <td>827.0</td>\n",
       "      <td>1.959178</td>\n",
       "    </tr>\n",
       "    <tr>\n",
       "      <th>1021087</th>\n",
       "      <td>id1816614</td>\n",
       "      <td>2</td>\n",
       "      <td>2016-06-05 02:49:13</td>\n",
       "      <td>2016-06-05 02:59:27</td>\n",
       "      <td>5</td>\n",
       "      <td>-73.989059</td>\n",
       "      <td>40.744389</td>\n",
       "      <td>-73.973381</td>\n",
       "      <td>40.748692</td>\n",
       "      <td>N</td>\n",
       "      <td>614</td>\n",
       "      <td>2</td>\n",
       "      <td>2</td>\n",
       "      <td>Night</td>\n",
       "      <td>Night</td>\n",
       "      <td>5</td>\n",
       "      <td>5</td>\n",
       "      <td>6</td>\n",
       "      <td>6</td>\n",
       "      <td>6</td>\n",
       "      <td>6</td>\n",
       "      <td>614.0</td>\n",
       "      <td>1.404772</td>\n",
       "    </tr>\n",
       "    <tr>\n",
       "      <th>951424</th>\n",
       "      <td>id1050851</td>\n",
       "      <td>2</td>\n",
       "      <td>2016-05-05 17:18:27</td>\n",
       "      <td>2016-05-05 17:32:54</td>\n",
       "      <td>2</td>\n",
       "      <td>-73.990326</td>\n",
       "      <td>40.731136</td>\n",
       "      <td>-73.991264</td>\n",
       "      <td>40.748917</td>\n",
       "      <td>N</td>\n",
       "      <td>867</td>\n",
       "      <td>17</td>\n",
       "      <td>17</td>\n",
       "      <td>Evening</td>\n",
       "      <td>Evening</td>\n",
       "      <td>5</td>\n",
       "      <td>5</td>\n",
       "      <td>5</td>\n",
       "      <td>5</td>\n",
       "      <td>3</td>\n",
       "      <td>3</td>\n",
       "      <td>867.0</td>\n",
       "      <td>1.978660</td>\n",
       "    </tr>\n",
       "    <tr>\n",
       "      <th>707882</th>\n",
       "      <td>id0140657</td>\n",
       "      <td>1</td>\n",
       "      <td>2016-05-12 17:43:38</td>\n",
       "      <td>2016-05-12 19:06:25</td>\n",
       "      <td>4</td>\n",
       "      <td>-73.789497</td>\n",
       "      <td>40.646675</td>\n",
       "      <td>-73.987137</td>\n",
       "      <td>40.759232</td>\n",
       "      <td>N</td>\n",
       "      <td>4967</td>\n",
       "      <td>17</td>\n",
       "      <td>19</td>\n",
       "      <td>Evening</td>\n",
       "      <td>Evening</td>\n",
       "      <td>12</td>\n",
       "      <td>12</td>\n",
       "      <td>5</td>\n",
       "      <td>5</td>\n",
       "      <td>3</td>\n",
       "      <td>3</td>\n",
       "      <td>4967.0</td>\n",
       "      <td>20.837745</td>\n",
       "    </tr>\n",
       "  </tbody>\n",
       "</table>\n",
       "</div>"
      ],
      "text/plain": [
       "                id  vendor_id     pickup_datetime    dropoff_datetime  \\\n",
       "67250    id2793718          2 2016-06-08 07:36:19 2016-06-08 07:53:39   \n",
       "1397036  id3485529          2 2016-04-03 12:58:11 2016-04-03 13:11:58   \n",
       "1021087  id1816614          2 2016-06-05 02:49:13 2016-06-05 02:59:27   \n",
       "951424   id1050851          2 2016-05-05 17:18:27 2016-05-05 17:32:54   \n",
       "707882   id0140657          1 2016-05-12 17:43:38 2016-05-12 19:06:25   \n",
       "\n",
       "         passenger_count  pickup_longitude  pickup_latitude  \\\n",
       "67250                  1        -73.985611        40.735943   \n",
       "1397036                1        -73.978394        40.764351   \n",
       "1021087                5        -73.989059        40.744389   \n",
       "951424                 2        -73.990326        40.731136   \n",
       "707882                 4        -73.789497        40.646675   \n",
       "\n",
       "         dropoff_longitude  dropoff_latitude store_and_fwd_flag  \\\n",
       "67250           -73.980331         40.760468                  N   \n",
       "1397036         -73.991623         40.749859                  N   \n",
       "1021087         -73.973381         40.748692                  N   \n",
       "951424          -73.991264         40.748917                  N   \n",
       "707882          -73.987137         40.759232                  N   \n",
       "\n",
       "         trip_duration  pickup_hour  dropoff_hour pickup_timeofday  \\\n",
       "67250             1040            7             7          Morning   \n",
       "1397036            827           12            13        Afternoon   \n",
       "1021087            614            2             2            Night   \n",
       "951424             867           17            17          Evening   \n",
       "707882            4967           17            19          Evening   \n",
       "\n",
       "        dropoff_timeofday  pickup_day  dropoff_day  pickup_month  \\\n",
       "67250             Morning           8            8             6   \n",
       "1397036         Afternoon           3            3             4   \n",
       "1021087             Night           5            5             6   \n",
       "951424            Evening           5            5             5   \n",
       "707882            Evening          12           12             5   \n",
       "\n",
       "         dropoff_month  pickup_weekday  dropoff_weekday  calc_trip_duration  \\\n",
       "67250                6               2                2              1040.0   \n",
       "1397036              4               6                6               827.0   \n",
       "1021087              6               6                6               614.0   \n",
       "951424               5               3                3               867.0   \n",
       "707882               5               3                3              4967.0   \n",
       "\n",
       "         trip_distance  \n",
       "67250         2.763050  \n",
       "1397036       1.959178  \n",
       "1021087       1.404772  \n",
       "951424        1.978660  \n",
       "707882       20.837745  "
      ]
     },
     "execution_count": 47,
     "metadata": {},
     "output_type": "execute_result"
    }
   ],
   "source": [
    "preprocess_test = pre_process_features(y_new_pd)\n",
    "pd.set_option('display.max_columns', None)\n",
    "preprocess_test.head()"
   ]
  },
  {
   "cell_type": "code",
   "execution_count": 48,
   "metadata": {},
   "outputs": [],
   "source": [
    "X_test_df = preprocess_test.copy()"
   ]
  },
  {
   "cell_type": "code",
   "execution_count": 49,
   "metadata": {},
   "outputs": [
    {
     "data": {
      "text/plain": [
       "(145865, 23)"
      ]
     },
     "execution_count": 49,
     "metadata": {},
     "output_type": "execute_result"
    }
   ],
   "source": [
    "X_test_df.shape"
   ]
  },
  {
   "cell_type": "markdown",
   "metadata": {},
   "source": [
    "## Exploriing Test Set"
   ]
  },
  {
   "cell_type": "code",
   "execution_count": 50,
   "metadata": {},
   "outputs": [
    {
     "data": {
      "text/plain": [
       "passenger_count\n",
       "1    103132\n",
       "2     21115\n",
       "5      7831\n",
       "3      6047\n",
       "6      4866\n",
       "4      2868\n",
       "0         6\n",
       "Name: count, dtype: int64"
      ]
     },
     "execution_count": 50,
     "metadata": {},
     "output_type": "execute_result"
    }
   ],
   "source": [
    "X_test_df['passenger_count'].value_counts()"
   ]
  },
  {
   "cell_type": "code",
   "execution_count": 51,
   "metadata": {},
   "outputs": [
    {
     "data": {
      "text/plain": [
       "passenger_count\n",
       "1    103132\n",
       "2     21115\n",
       "5      7831\n",
       "3      6047\n",
       "6      4866\n",
       "4      2868\n",
       "Name: count, dtype: int64"
      ]
     },
     "execution_count": 51,
     "metadata": {},
     "output_type": "execute_result"
    }
   ],
   "source": [
    "# Remove outliers\n",
    "\n",
    "X_test_df = X_test_df[(X_test_df['passenger_count'] != 0) & (X_test_df['passenger_count'] <= 6)]\n",
    "\n",
    "X_test_df['passenger_count'].value_counts()"
   ]
  },
  {
   "cell_type": "code",
   "execution_count": 52,
   "metadata": {},
   "outputs": [
    {
     "data": {
      "text/plain": [
       "trip_duration\n",
       "563     182\n",
       "363     178\n",
       "348     178\n",
       "370     177\n",
       "368     176\n",
       "       ... \n",
       "4948      1\n",
       "4003      1\n",
       "4604      1\n",
       "3136      1\n",
       "3719      1\n",
       "Name: count, Length: 4474, dtype: int64"
      ]
     },
     "execution_count": 52,
     "metadata": {},
     "output_type": "execute_result"
    }
   ],
   "source": [
    "X_test_df['trip_duration'].value_counts()"
   ]
  },
  {
   "cell_type": "code",
   "execution_count": 53,
   "metadata": {},
   "outputs": [
    {
     "name": "stdout",
     "output_type": "stream",
     "text": [
      "Max:  23.990555555555556\n"
     ]
    }
   ],
   "source": [
    "X_test_df = X_test_df[X_test_df['trip_distance'] != X_test_df['trip_distance'].min()]\n",
    "\n",
    "max_trip_hr = X_test_df['trip_duration'].max() / 3600\n",
    "\n",
    "print(\"Max: \", max_trip_hr)"
   ]
  },
  {
   "cell_type": "code",
   "execution_count": 54,
   "metadata": {},
   "outputs": [
    {
     "name": "stdout",
     "output_type": "stream",
     "text": [
      "Number of data points greater than the upper bound: 13972\n",
      "Number of data points lower than the lower bound: 0\n"
     ]
    }
   ],
   "source": [
    "# Calculate the first (Q1) and third quartile (Q3) of 'trip_distance'\n",
    "Q1 = X_test_df['trip_distance'].quantile(0.25)\n",
    "Q3 = X_test_df['trip_distance'].quantile(0.75)\n",
    "\n",
    "# Calculate the IQR (Interquartile Range)\n",
    "IQR = Q3 - Q1\n",
    "\n",
    "# Define the lower and upper bounds for outliers\n",
    "lower_bound = Q1 - 1.5 * IQR\n",
    "upper_bound = Q3 + 1.5 * IQR\n",
    "\n",
    "# Count the number of data points greater than upper_bound\n",
    "greater_than_upper = X_test_df[X_test_df['trip_distance'] > upper_bound].shape[0]\n",
    "\n",
    "# Count the number of data points lower than lower_bound\n",
    "lower_than_lower = X_test_df[X_test_df['trip_distance'] < lower_bound].shape[0]\n",
    "\n",
    "# Print the results\n",
    "print(f\"Number of data points greater than the upper bound: {greater_than_upper}\")\n",
    "print(f\"Number of data points lower than the lower bound: {lower_than_lower}\")\n",
    "\n"
   ]
  },
  {
   "cell_type": "code",
   "execution_count": 55,
   "metadata": {},
   "outputs": [
    {
     "name": "stdout",
     "output_type": "stream",
     "text": [
      "(131272, 23)\n"
     ]
    }
   ],
   "source": [
    "#Removing outliers for trip distance\n",
    "X_test_df = X_test_df[(X_test_df['trip_distance'] >= lower_bound) & (X_test_df['trip_distance'] <= upper_bound)]\n",
    "\n",
    "print(X_test_df.shape)"
   ]
  },
  {
   "cell_type": "code",
   "execution_count": 56,
   "metadata": {},
   "outputs": [
    {
     "data": {
      "text/plain": [
       "483960     86366\n",
       "1282413    86365\n",
       "755015     86362\n",
       "88508      86358\n",
       "1437604    86357\n",
       "           ...  \n",
       "303791         2\n",
       "730299         2\n",
       "1075427        2\n",
       "1020268        2\n",
       "311745         1\n",
       "Name: trip_duration, Length: 131272, dtype: int64"
      ]
     },
     "execution_count": 56,
     "metadata": {},
     "output_type": "execute_result"
    }
   ],
   "source": [
    "X_test_df['trip_duration'].sort_values(ascending= False)"
   ]
  },
  {
   "cell_type": "code",
   "execution_count": 57,
   "metadata": {},
   "outputs": [],
   "source": [
    "X_test_df= X_test_df[X_test_df.trip_duration <= 5000]\n",
    "X_test_df = X_test_df[X_test_df.trip_duration >= 60]"
   ]
  },
  {
   "cell_type": "code",
   "execution_count": 58,
   "metadata": {},
   "outputs": [
    {
     "data": {
      "text/plain": [
       "trip_duration\n",
       "563     182\n",
       "370     177\n",
       "368     176\n",
       "378     175\n",
       "363     175\n",
       "       ... \n",
       "2794      1\n",
       "2355      1\n",
       "3201      1\n",
       "2695      1\n",
       "2975      1\n",
       "Name: count, Length: 2825, dtype: int64"
      ]
     },
     "execution_count": 58,
     "metadata": {},
     "output_type": "execute_result"
    }
   ],
   "source": [
    "X_test_df['trip_duration'].value_counts()"
   ]
  },
  {
   "cell_type": "markdown",
   "metadata": {},
   "source": [
    "### Final Test Features"
   ]
  },
  {
   "cell_type": "code",
   "execution_count": 59,
   "metadata": {},
   "outputs": [
    {
     "data": {
      "text/html": [
       "<div>\n",
       "<style scoped>\n",
       "    .dataframe tbody tr th:only-of-type {\n",
       "        vertical-align: middle;\n",
       "    }\n",
       "\n",
       "    .dataframe tbody tr th {\n",
       "        vertical-align: top;\n",
       "    }\n",
       "\n",
       "    .dataframe thead th {\n",
       "        text-align: right;\n",
       "    }\n",
       "</style>\n",
       "<table border=\"1\" class=\"dataframe\">\n",
       "  <thead>\n",
       "    <tr style=\"text-align: right;\">\n",
       "      <th></th>\n",
       "      <th>id</th>\n",
       "      <th>vendor_id</th>\n",
       "      <th>pickup_datetime</th>\n",
       "      <th>dropoff_datetime</th>\n",
       "      <th>passenger_count</th>\n",
       "      <th>pickup_longitude</th>\n",
       "      <th>pickup_latitude</th>\n",
       "      <th>dropoff_longitude</th>\n",
       "      <th>dropoff_latitude</th>\n",
       "      <th>store_and_fwd_flag</th>\n",
       "      <th>trip_duration</th>\n",
       "      <th>pickup_hour</th>\n",
       "      <th>dropoff_hour</th>\n",
       "      <th>pickup_timeofday</th>\n",
       "      <th>dropoff_timeofday</th>\n",
       "      <th>pickup_day</th>\n",
       "      <th>dropoff_day</th>\n",
       "      <th>pickup_month</th>\n",
       "      <th>dropoff_month</th>\n",
       "      <th>pickup_weekday</th>\n",
       "      <th>dropoff_weekday</th>\n",
       "      <th>calc_trip_duration</th>\n",
       "      <th>trip_distance</th>\n",
       "    </tr>\n",
       "  </thead>\n",
       "  <tbody>\n",
       "    <tr>\n",
       "      <th>67250</th>\n",
       "      <td>id2793718</td>\n",
       "      <td>2</td>\n",
       "      <td>2016-06-08 07:36:19</td>\n",
       "      <td>2016-06-08 07:53:39</td>\n",
       "      <td>1</td>\n",
       "      <td>-73.985611</td>\n",
       "      <td>40.735943</td>\n",
       "      <td>-73.980331</td>\n",
       "      <td>40.760468</td>\n",
       "      <td>N</td>\n",
       "      <td>1040</td>\n",
       "      <td>7</td>\n",
       "      <td>7</td>\n",
       "      <td>Morning</td>\n",
       "      <td>Morning</td>\n",
       "      <td>8</td>\n",
       "      <td>8</td>\n",
       "      <td>6</td>\n",
       "      <td>6</td>\n",
       "      <td>2</td>\n",
       "      <td>2</td>\n",
       "      <td>1040.0</td>\n",
       "      <td>2.763050</td>\n",
       "    </tr>\n",
       "    <tr>\n",
       "      <th>1397036</th>\n",
       "      <td>id3485529</td>\n",
       "      <td>2</td>\n",
       "      <td>2016-04-03 12:58:11</td>\n",
       "      <td>2016-04-03 13:11:58</td>\n",
       "      <td>1</td>\n",
       "      <td>-73.978394</td>\n",
       "      <td>40.764351</td>\n",
       "      <td>-73.991623</td>\n",
       "      <td>40.749859</td>\n",
       "      <td>N</td>\n",
       "      <td>827</td>\n",
       "      <td>12</td>\n",
       "      <td>13</td>\n",
       "      <td>Afternoon</td>\n",
       "      <td>Afternoon</td>\n",
       "      <td>3</td>\n",
       "      <td>3</td>\n",
       "      <td>4</td>\n",
       "      <td>4</td>\n",
       "      <td>6</td>\n",
       "      <td>6</td>\n",
       "      <td>827.0</td>\n",
       "      <td>1.959178</td>\n",
       "    </tr>\n",
       "    <tr>\n",
       "      <th>1021087</th>\n",
       "      <td>id1816614</td>\n",
       "      <td>2</td>\n",
       "      <td>2016-06-05 02:49:13</td>\n",
       "      <td>2016-06-05 02:59:27</td>\n",
       "      <td>5</td>\n",
       "      <td>-73.989059</td>\n",
       "      <td>40.744389</td>\n",
       "      <td>-73.973381</td>\n",
       "      <td>40.748692</td>\n",
       "      <td>N</td>\n",
       "      <td>614</td>\n",
       "      <td>2</td>\n",
       "      <td>2</td>\n",
       "      <td>Night</td>\n",
       "      <td>Night</td>\n",
       "      <td>5</td>\n",
       "      <td>5</td>\n",
       "      <td>6</td>\n",
       "      <td>6</td>\n",
       "      <td>6</td>\n",
       "      <td>6</td>\n",
       "      <td>614.0</td>\n",
       "      <td>1.404772</td>\n",
       "    </tr>\n",
       "    <tr>\n",
       "      <th>951424</th>\n",
       "      <td>id1050851</td>\n",
       "      <td>2</td>\n",
       "      <td>2016-05-05 17:18:27</td>\n",
       "      <td>2016-05-05 17:32:54</td>\n",
       "      <td>2</td>\n",
       "      <td>-73.990326</td>\n",
       "      <td>40.731136</td>\n",
       "      <td>-73.991264</td>\n",
       "      <td>40.748917</td>\n",
       "      <td>N</td>\n",
       "      <td>867</td>\n",
       "      <td>17</td>\n",
       "      <td>17</td>\n",
       "      <td>Evening</td>\n",
       "      <td>Evening</td>\n",
       "      <td>5</td>\n",
       "      <td>5</td>\n",
       "      <td>5</td>\n",
       "      <td>5</td>\n",
       "      <td>3</td>\n",
       "      <td>3</td>\n",
       "      <td>867.0</td>\n",
       "      <td>1.978660</td>\n",
       "    </tr>\n",
       "    <tr>\n",
       "      <th>1432685</th>\n",
       "      <td>id2734699</td>\n",
       "      <td>2</td>\n",
       "      <td>2016-04-14 12:17:42</td>\n",
       "      <td>2016-04-14 12:23:56</td>\n",
       "      <td>3</td>\n",
       "      <td>-73.969833</td>\n",
       "      <td>40.768570</td>\n",
       "      <td>-73.962646</td>\n",
       "      <td>40.767181</td>\n",
       "      <td>N</td>\n",
       "      <td>374</td>\n",
       "      <td>12</td>\n",
       "      <td>12</td>\n",
       "      <td>Afternoon</td>\n",
       "      <td>Afternoon</td>\n",
       "      <td>14</td>\n",
       "      <td>14</td>\n",
       "      <td>4</td>\n",
       "      <td>4</td>\n",
       "      <td>3</td>\n",
       "      <td>3</td>\n",
       "      <td>374.0</td>\n",
       "      <td>0.624626</td>\n",
       "    </tr>\n",
       "  </tbody>\n",
       "</table>\n",
       "</div>"
      ],
      "text/plain": [
       "                id  vendor_id     pickup_datetime    dropoff_datetime  \\\n",
       "67250    id2793718          2 2016-06-08 07:36:19 2016-06-08 07:53:39   \n",
       "1397036  id3485529          2 2016-04-03 12:58:11 2016-04-03 13:11:58   \n",
       "1021087  id1816614          2 2016-06-05 02:49:13 2016-06-05 02:59:27   \n",
       "951424   id1050851          2 2016-05-05 17:18:27 2016-05-05 17:32:54   \n",
       "1432685  id2734699          2 2016-04-14 12:17:42 2016-04-14 12:23:56   \n",
       "\n",
       "         passenger_count  pickup_longitude  pickup_latitude  \\\n",
       "67250                  1        -73.985611        40.735943   \n",
       "1397036                1        -73.978394        40.764351   \n",
       "1021087                5        -73.989059        40.744389   \n",
       "951424                 2        -73.990326        40.731136   \n",
       "1432685                3        -73.969833        40.768570   \n",
       "\n",
       "         dropoff_longitude  dropoff_latitude store_and_fwd_flag  \\\n",
       "67250           -73.980331         40.760468                  N   \n",
       "1397036         -73.991623         40.749859                  N   \n",
       "1021087         -73.973381         40.748692                  N   \n",
       "951424          -73.991264         40.748917                  N   \n",
       "1432685         -73.962646         40.767181                  N   \n",
       "\n",
       "         trip_duration  pickup_hour  dropoff_hour pickup_timeofday  \\\n",
       "67250             1040            7             7          Morning   \n",
       "1397036            827           12            13        Afternoon   \n",
       "1021087            614            2             2            Night   \n",
       "951424             867           17            17          Evening   \n",
       "1432685            374           12            12        Afternoon   \n",
       "\n",
       "        dropoff_timeofday  pickup_day  dropoff_day  pickup_month  \\\n",
       "67250             Morning           8            8             6   \n",
       "1397036         Afternoon           3            3             4   \n",
       "1021087             Night           5            5             6   \n",
       "951424            Evening           5            5             5   \n",
       "1432685         Afternoon          14           14             4   \n",
       "\n",
       "         dropoff_month  pickup_weekday  dropoff_weekday  calc_trip_duration  \\\n",
       "67250                6               2                2              1040.0   \n",
       "1397036              4               6                6               827.0   \n",
       "1021087              6               6                6               614.0   \n",
       "951424               5               3                3               867.0   \n",
       "1432685              4               3                3               374.0   \n",
       "\n",
       "         trip_distance  \n",
       "67250         2.763050  \n",
       "1397036       1.959178  \n",
       "1021087       1.404772  \n",
       "951424        1.978660  \n",
       "1432685       0.624626  "
      ]
     },
     "execution_count": 59,
     "metadata": {},
     "output_type": "execute_result"
    }
   ],
   "source": [
    "X_test_df.head()"
   ]
  },
  {
   "cell_type": "code",
   "execution_count": 60,
   "metadata": {},
   "outputs": [],
   "source": [
    "X_test_df = X_test_df.join(pd.get_dummies(X_test_df['pickup_timeofday'], prefix='pickup_timeofday', dtype=int))\n"
   ]
  },
  {
   "cell_type": "code",
   "execution_count": 61,
   "metadata": {},
   "outputs": [
    {
     "data": {
      "text/html": [
       "<div>\n",
       "<style scoped>\n",
       "    .dataframe tbody tr th:only-of-type {\n",
       "        vertical-align: middle;\n",
       "    }\n",
       "\n",
       "    .dataframe tbody tr th {\n",
       "        vertical-align: top;\n",
       "    }\n",
       "\n",
       "    .dataframe thead th {\n",
       "        text-align: right;\n",
       "    }\n",
       "</style>\n",
       "<table border=\"1\" class=\"dataframe\">\n",
       "  <thead>\n",
       "    <tr style=\"text-align: right;\">\n",
       "      <th></th>\n",
       "      <th>id</th>\n",
       "      <th>vendor_id</th>\n",
       "      <th>pickup_datetime</th>\n",
       "      <th>dropoff_datetime</th>\n",
       "      <th>passenger_count</th>\n",
       "      <th>pickup_longitude</th>\n",
       "      <th>pickup_latitude</th>\n",
       "      <th>dropoff_longitude</th>\n",
       "      <th>dropoff_latitude</th>\n",
       "      <th>store_and_fwd_flag</th>\n",
       "      <th>trip_duration</th>\n",
       "      <th>pickup_hour</th>\n",
       "      <th>dropoff_hour</th>\n",
       "      <th>dropoff_timeofday</th>\n",
       "      <th>pickup_day</th>\n",
       "      <th>dropoff_day</th>\n",
       "      <th>pickup_month</th>\n",
       "      <th>dropoff_month</th>\n",
       "      <th>pickup_weekday</th>\n",
       "      <th>dropoff_weekday</th>\n",
       "      <th>calc_trip_duration</th>\n",
       "      <th>trip_distance</th>\n",
       "      <th>pickup_timeofday_Afternoon</th>\n",
       "      <th>pickup_timeofday_Evening</th>\n",
       "      <th>pickup_timeofday_Morning</th>\n",
       "      <th>pickup_timeofday_Night</th>\n",
       "    </tr>\n",
       "  </thead>\n",
       "  <tbody>\n",
       "    <tr>\n",
       "      <th>67250</th>\n",
       "      <td>id2793718</td>\n",
       "      <td>2</td>\n",
       "      <td>2016-06-08 07:36:19</td>\n",
       "      <td>2016-06-08 07:53:39</td>\n",
       "      <td>1</td>\n",
       "      <td>-73.985611</td>\n",
       "      <td>40.735943</td>\n",
       "      <td>-73.980331</td>\n",
       "      <td>40.760468</td>\n",
       "      <td>N</td>\n",
       "      <td>1040</td>\n",
       "      <td>7</td>\n",
       "      <td>7</td>\n",
       "      <td>Morning</td>\n",
       "      <td>8</td>\n",
       "      <td>8</td>\n",
       "      <td>6</td>\n",
       "      <td>6</td>\n",
       "      <td>2</td>\n",
       "      <td>2</td>\n",
       "      <td>1040.0</td>\n",
       "      <td>2.763050</td>\n",
       "      <td>0</td>\n",
       "      <td>0</td>\n",
       "      <td>1</td>\n",
       "      <td>0</td>\n",
       "    </tr>\n",
       "    <tr>\n",
       "      <th>1397036</th>\n",
       "      <td>id3485529</td>\n",
       "      <td>2</td>\n",
       "      <td>2016-04-03 12:58:11</td>\n",
       "      <td>2016-04-03 13:11:58</td>\n",
       "      <td>1</td>\n",
       "      <td>-73.978394</td>\n",
       "      <td>40.764351</td>\n",
       "      <td>-73.991623</td>\n",
       "      <td>40.749859</td>\n",
       "      <td>N</td>\n",
       "      <td>827</td>\n",
       "      <td>12</td>\n",
       "      <td>13</td>\n",
       "      <td>Afternoon</td>\n",
       "      <td>3</td>\n",
       "      <td>3</td>\n",
       "      <td>4</td>\n",
       "      <td>4</td>\n",
       "      <td>6</td>\n",
       "      <td>6</td>\n",
       "      <td>827.0</td>\n",
       "      <td>1.959178</td>\n",
       "      <td>1</td>\n",
       "      <td>0</td>\n",
       "      <td>0</td>\n",
       "      <td>0</td>\n",
       "    </tr>\n",
       "    <tr>\n",
       "      <th>1021087</th>\n",
       "      <td>id1816614</td>\n",
       "      <td>2</td>\n",
       "      <td>2016-06-05 02:49:13</td>\n",
       "      <td>2016-06-05 02:59:27</td>\n",
       "      <td>5</td>\n",
       "      <td>-73.989059</td>\n",
       "      <td>40.744389</td>\n",
       "      <td>-73.973381</td>\n",
       "      <td>40.748692</td>\n",
       "      <td>N</td>\n",
       "      <td>614</td>\n",
       "      <td>2</td>\n",
       "      <td>2</td>\n",
       "      <td>Night</td>\n",
       "      <td>5</td>\n",
       "      <td>5</td>\n",
       "      <td>6</td>\n",
       "      <td>6</td>\n",
       "      <td>6</td>\n",
       "      <td>6</td>\n",
       "      <td>614.0</td>\n",
       "      <td>1.404772</td>\n",
       "      <td>0</td>\n",
       "      <td>0</td>\n",
       "      <td>0</td>\n",
       "      <td>1</td>\n",
       "    </tr>\n",
       "    <tr>\n",
       "      <th>951424</th>\n",
       "      <td>id1050851</td>\n",
       "      <td>2</td>\n",
       "      <td>2016-05-05 17:18:27</td>\n",
       "      <td>2016-05-05 17:32:54</td>\n",
       "      <td>2</td>\n",
       "      <td>-73.990326</td>\n",
       "      <td>40.731136</td>\n",
       "      <td>-73.991264</td>\n",
       "      <td>40.748917</td>\n",
       "      <td>N</td>\n",
       "      <td>867</td>\n",
       "      <td>17</td>\n",
       "      <td>17</td>\n",
       "      <td>Evening</td>\n",
       "      <td>5</td>\n",
       "      <td>5</td>\n",
       "      <td>5</td>\n",
       "      <td>5</td>\n",
       "      <td>3</td>\n",
       "      <td>3</td>\n",
       "      <td>867.0</td>\n",
       "      <td>1.978660</td>\n",
       "      <td>0</td>\n",
       "      <td>1</td>\n",
       "      <td>0</td>\n",
       "      <td>0</td>\n",
       "    </tr>\n",
       "    <tr>\n",
       "      <th>1432685</th>\n",
       "      <td>id2734699</td>\n",
       "      <td>2</td>\n",
       "      <td>2016-04-14 12:17:42</td>\n",
       "      <td>2016-04-14 12:23:56</td>\n",
       "      <td>3</td>\n",
       "      <td>-73.969833</td>\n",
       "      <td>40.768570</td>\n",
       "      <td>-73.962646</td>\n",
       "      <td>40.767181</td>\n",
       "      <td>N</td>\n",
       "      <td>374</td>\n",
       "      <td>12</td>\n",
       "      <td>12</td>\n",
       "      <td>Afternoon</td>\n",
       "      <td>14</td>\n",
       "      <td>14</td>\n",
       "      <td>4</td>\n",
       "      <td>4</td>\n",
       "      <td>3</td>\n",
       "      <td>3</td>\n",
       "      <td>374.0</td>\n",
       "      <td>0.624626</td>\n",
       "      <td>1</td>\n",
       "      <td>0</td>\n",
       "      <td>0</td>\n",
       "      <td>0</td>\n",
       "    </tr>\n",
       "  </tbody>\n",
       "</table>\n",
       "</div>"
      ],
      "text/plain": [
       "                id  vendor_id     pickup_datetime    dropoff_datetime  \\\n",
       "67250    id2793718          2 2016-06-08 07:36:19 2016-06-08 07:53:39   \n",
       "1397036  id3485529          2 2016-04-03 12:58:11 2016-04-03 13:11:58   \n",
       "1021087  id1816614          2 2016-06-05 02:49:13 2016-06-05 02:59:27   \n",
       "951424   id1050851          2 2016-05-05 17:18:27 2016-05-05 17:32:54   \n",
       "1432685  id2734699          2 2016-04-14 12:17:42 2016-04-14 12:23:56   \n",
       "\n",
       "         passenger_count  pickup_longitude  pickup_latitude  \\\n",
       "67250                  1        -73.985611        40.735943   \n",
       "1397036                1        -73.978394        40.764351   \n",
       "1021087                5        -73.989059        40.744389   \n",
       "951424                 2        -73.990326        40.731136   \n",
       "1432685                3        -73.969833        40.768570   \n",
       "\n",
       "         dropoff_longitude  dropoff_latitude store_and_fwd_flag  \\\n",
       "67250           -73.980331         40.760468                  N   \n",
       "1397036         -73.991623         40.749859                  N   \n",
       "1021087         -73.973381         40.748692                  N   \n",
       "951424          -73.991264         40.748917                  N   \n",
       "1432685         -73.962646         40.767181                  N   \n",
       "\n",
       "         trip_duration  pickup_hour  dropoff_hour dropoff_timeofday  \\\n",
       "67250             1040            7             7           Morning   \n",
       "1397036            827           12            13         Afternoon   \n",
       "1021087            614            2             2             Night   \n",
       "951424             867           17            17           Evening   \n",
       "1432685            374           12            12         Afternoon   \n",
       "\n",
       "         pickup_day  dropoff_day  pickup_month  dropoff_month  pickup_weekday  \\\n",
       "67250             8            8             6              6               2   \n",
       "1397036           3            3             4              4               6   \n",
       "1021087           5            5             6              6               6   \n",
       "951424            5            5             5              5               3   \n",
       "1432685          14           14             4              4               3   \n",
       "\n",
       "         dropoff_weekday  calc_trip_duration  trip_distance  \\\n",
       "67250                  2              1040.0       2.763050   \n",
       "1397036                6               827.0       1.959178   \n",
       "1021087                6               614.0       1.404772   \n",
       "951424                 3               867.0       1.978660   \n",
       "1432685                3               374.0       0.624626   \n",
       "\n",
       "         pickup_timeofday_Afternoon  pickup_timeofday_Evening  \\\n",
       "67250                             0                         0   \n",
       "1397036                           1                         0   \n",
       "1021087                           0                         0   \n",
       "951424                            0                         1   \n",
       "1432685                           1                         0   \n",
       "\n",
       "         pickup_timeofday_Morning  pickup_timeofday_Night  \n",
       "67250                           1                       0  \n",
       "1397036                         0                       0  \n",
       "1021087                         0                       1  \n",
       "951424                          0                       0  \n",
       "1432685                         0                       0  "
      ]
     },
     "execution_count": 61,
     "metadata": {},
     "output_type": "execute_result"
    }
   ],
   "source": [
    "X_test_df.drop(columns=['pickup_timeofday'], inplace=True)\n",
    "X_test_df.head()"
   ]
  },
  {
   "cell_type": "code",
   "execution_count": 62,
   "metadata": {},
   "outputs": [],
   "source": [
    "drop_features_test = ['trip_duration','id','vendor_id','pickup_datetime','dropoff_datetime','store_and_fwd_flag','calc_trip_duration','dropoff_hour','dropoff_timeofday','dropoff_day','dropoff_month','dropoff_weekday', 'pickup_day', 'pickup_timeofday_Evening', 'pickup_timeofday_Morning','pickup_timeofday_Night']\n",
    "\n",
    "\n",
    "x_test = X_test_df.drop(drop_features_test,axis=1)\n",
    "y_test = X_test_df['trip_duration']"
   ]
  },
  {
   "cell_type": "code",
   "execution_count": 63,
   "metadata": {},
   "outputs": [
    {
     "data": {
      "text/html": [
       "<div>\n",
       "<style scoped>\n",
       "    .dataframe tbody tr th:only-of-type {\n",
       "        vertical-align: middle;\n",
       "    }\n",
       "\n",
       "    .dataframe tbody tr th {\n",
       "        vertical-align: top;\n",
       "    }\n",
       "\n",
       "    .dataframe thead th {\n",
       "        text-align: right;\n",
       "    }\n",
       "</style>\n",
       "<table border=\"1\" class=\"dataframe\">\n",
       "  <thead>\n",
       "    <tr style=\"text-align: right;\">\n",
       "      <th></th>\n",
       "      <th>passenger_count</th>\n",
       "      <th>pickup_longitude</th>\n",
       "      <th>pickup_latitude</th>\n",
       "      <th>dropoff_longitude</th>\n",
       "      <th>dropoff_latitude</th>\n",
       "      <th>pickup_hour</th>\n",
       "      <th>pickup_month</th>\n",
       "      <th>pickup_weekday</th>\n",
       "      <th>trip_distance</th>\n",
       "      <th>pickup_timeofday_Afternoon</th>\n",
       "    </tr>\n",
       "  </thead>\n",
       "  <tbody>\n",
       "    <tr>\n",
       "      <th>67250</th>\n",
       "      <td>1</td>\n",
       "      <td>-73.985611</td>\n",
       "      <td>40.735943</td>\n",
       "      <td>-73.980331</td>\n",
       "      <td>40.760468</td>\n",
       "      <td>7</td>\n",
       "      <td>6</td>\n",
       "      <td>2</td>\n",
       "      <td>2.763050</td>\n",
       "      <td>0</td>\n",
       "    </tr>\n",
       "    <tr>\n",
       "      <th>1397036</th>\n",
       "      <td>1</td>\n",
       "      <td>-73.978394</td>\n",
       "      <td>40.764351</td>\n",
       "      <td>-73.991623</td>\n",
       "      <td>40.749859</td>\n",
       "      <td>12</td>\n",
       "      <td>4</td>\n",
       "      <td>6</td>\n",
       "      <td>1.959178</td>\n",
       "      <td>1</td>\n",
       "    </tr>\n",
       "    <tr>\n",
       "      <th>1021087</th>\n",
       "      <td>5</td>\n",
       "      <td>-73.989059</td>\n",
       "      <td>40.744389</td>\n",
       "      <td>-73.973381</td>\n",
       "      <td>40.748692</td>\n",
       "      <td>2</td>\n",
       "      <td>6</td>\n",
       "      <td>6</td>\n",
       "      <td>1.404772</td>\n",
       "      <td>0</td>\n",
       "    </tr>\n",
       "    <tr>\n",
       "      <th>951424</th>\n",
       "      <td>2</td>\n",
       "      <td>-73.990326</td>\n",
       "      <td>40.731136</td>\n",
       "      <td>-73.991264</td>\n",
       "      <td>40.748917</td>\n",
       "      <td>17</td>\n",
       "      <td>5</td>\n",
       "      <td>3</td>\n",
       "      <td>1.978660</td>\n",
       "      <td>0</td>\n",
       "    </tr>\n",
       "    <tr>\n",
       "      <th>1432685</th>\n",
       "      <td>3</td>\n",
       "      <td>-73.969833</td>\n",
       "      <td>40.768570</td>\n",
       "      <td>-73.962646</td>\n",
       "      <td>40.767181</td>\n",
       "      <td>12</td>\n",
       "      <td>4</td>\n",
       "      <td>3</td>\n",
       "      <td>0.624626</td>\n",
       "      <td>1</td>\n",
       "    </tr>\n",
       "  </tbody>\n",
       "</table>\n",
       "</div>"
      ],
      "text/plain": [
       "         passenger_count  pickup_longitude  pickup_latitude  \\\n",
       "67250                  1        -73.985611        40.735943   \n",
       "1397036                1        -73.978394        40.764351   \n",
       "1021087                5        -73.989059        40.744389   \n",
       "951424                 2        -73.990326        40.731136   \n",
       "1432685                3        -73.969833        40.768570   \n",
       "\n",
       "         dropoff_longitude  dropoff_latitude  pickup_hour  pickup_month  \\\n",
       "67250           -73.980331         40.760468            7             6   \n",
       "1397036         -73.991623         40.749859           12             4   \n",
       "1021087         -73.973381         40.748692            2             6   \n",
       "951424          -73.991264         40.748917           17             5   \n",
       "1432685         -73.962646         40.767181           12             4   \n",
       "\n",
       "         pickup_weekday  trip_distance  pickup_timeofday_Afternoon  \n",
       "67250                 2       2.763050                           0  \n",
       "1397036               6       1.959178                           1  \n",
       "1021087               6       1.404772                           0  \n",
       "951424                3       1.978660                           0  \n",
       "1432685               3       0.624626                           1  "
      ]
     },
     "execution_count": 63,
     "metadata": {},
     "output_type": "execute_result"
    }
   ],
   "source": [
    "x_test.head()"
   ]
  },
  {
   "cell_type": "markdown",
   "metadata": {},
   "source": [
    "## Trip Duration Prediction"
   ]
  },
  {
   "cell_type": "code",
   "execution_count": 64,
   "metadata": {},
   "outputs": [],
   "source": [
    "from sklearn.preprocessing import StandardScaler\n",
    "from sklearn.metrics import mean_squared_log_error"
   ]
  },
  {
   "cell_type": "markdown",
   "metadata": {},
   "source": [
    "### Normalize features"
   ]
  },
  {
   "cell_type": "code",
   "execution_count": 65,
   "metadata": {},
   "outputs": [],
   "source": [
    "\n",
    "def normalize_features(df, scaler =None, fit_scaler=True):\n",
    "    \n",
    "    #df = pd.get_dummies(df, columns=['pickup_timeofday'], drop_first=True)\n",
    "    \n",
    "    numerical_columns = df.select_dtypes(include=['number']).columns\n",
    "    \n",
    "    if fit_scaler:\n",
    "        scaler = StandardScaler()\n",
    "        df[numerical_columns] = scaler.fit_transform(df[numerical_columns])\n",
    "    else:\n",
    "        df[numerical_columns] = scaler.transform(df[numerical_columns])\n",
    "    \n",
    "    return df.to_numpy(), scaler"
   ]
  },
  {
   "cell_type": "markdown",
   "metadata": {},
   "source": [
    "### Pre-process Features"
   ]
  },
  {
   "cell_type": "code",
   "execution_count": 66,
   "metadata": {},
   "outputs": [],
   "source": [
    "x_train_processed, scaler = normalize_features(x_train, fit_scaler=True)\n",
    "x_test_processed, _ = normalize_features(x_test, scaler=scaler, fit_scaler=False)"
   ]
  },
  {
   "cell_type": "code",
   "execution_count": 112,
   "metadata": {},
   "outputs": [
    {
     "data": {
      "text/plain": [
       "array([[-0.50356173,  0.36612443,  0.85188469, ...,  0.48585591,\n",
       "        -0.31791703, -0.49836777],\n",
       "       [-0.50356173,  0.26595729,  0.44486321, ...,  0.99898414,\n",
       "        -0.52357692, -0.49836777],\n",
       "       [-0.50356173,  0.03473143, -0.04611142, ...,  0.99898414,\n",
       "         1.38275713, -0.49836777],\n",
       "       ...,\n",
       "       [-0.50356173,  0.09317187,  0.45824474, ..., -1.05352878,\n",
       "        -0.37426103, -0.49836777],\n",
       "       [-0.50356173, -0.39901877, -0.77938729, ..., -1.05352878,\n",
       "         3.06301389, -0.49836777],\n",
       "       [-0.50356173,  0.26353668,  0.60034382, ..., -1.05352878,\n",
       "        -1.07197689, -0.49836777]])"
      ]
     },
     "execution_count": 112,
     "metadata": {},
     "output_type": "execute_result"
    }
   ],
   "source": [
    "x_train_processed"
   ]
  },
  {
   "cell_type": "markdown",
   "metadata": {},
   "source": [
    "### Convert to numpy"
   ]
  },
  {
   "cell_type": "code",
   "execution_count": 67,
   "metadata": {},
   "outputs": [
    {
     "data": {
      "text/plain": [
       "(130336, 10)"
      ]
     },
     "execution_count": 67,
     "metadata": {},
     "output_type": "execute_result"
    }
   ],
   "source": [
    "x_test_processed.shape"
   ]
  },
  {
   "cell_type": "code",
   "execution_count": 68,
   "metadata": {},
   "outputs": [],
   "source": [
    "y_test = y_test.to_numpy()"
   ]
  },
  {
   "cell_type": "code",
   "execution_count": 101,
   "metadata": {},
   "outputs": [
    {
     "data": {
      "text/plain": [
       "array([[1040],\n",
       "       [ 827],\n",
       "       [ 614],\n",
       "       ...,\n",
       "       [ 779],\n",
       "       [ 393],\n",
       "       [ 764]], dtype=int64)"
      ]
     },
     "execution_count": 101,
     "metadata": {},
     "output_type": "execute_result"
    }
   ],
   "source": [
    "y_test = y_test.reshape(-1,1)\n",
    "y_test"
   ]
  },
  {
   "cell_type": "code",
   "execution_count": 69,
   "metadata": {},
   "outputs": [],
   "source": [
    "y_train = y_train.to_numpy()"
   ]
  },
  {
   "cell_type": "markdown",
   "metadata": {},
   "source": [
    "### Train Test Split"
   ]
  },
  {
   "cell_type": "code",
   "execution_count": 70,
   "metadata": {},
   "outputs": [],
   "source": [
    "train_x, val_x, train_y, val_y = train_test_split(x_train_processed, y_train, test_size=0.2, random_state=42)\n"
   ]
  },
  {
   "cell_type": "markdown",
   "metadata": {},
   "source": [
    "### Shape changes"
   ]
  },
  {
   "cell_type": "code",
   "execution_count": 71,
   "metadata": {},
   "outputs": [],
   "source": [
    "train_y = train_y.reshape(-1,1)\n"
   ]
  },
  {
   "cell_type": "code",
   "execution_count": 72,
   "metadata": {},
   "outputs": [
    {
     "name": "stdout",
     "output_type": "stream",
     "text": [
      "(938596, 1)\n"
     ]
    }
   ],
   "source": [
    "\n",
    "print(train_y.shape)"
   ]
  },
  {
   "cell_type": "code",
   "execution_count": 73,
   "metadata": {},
   "outputs": [
    {
     "data": {
      "text/plain": [
       "(234650,)"
      ]
     },
     "execution_count": 73,
     "metadata": {},
     "output_type": "execute_result"
    }
   ],
   "source": [
    "val_y.shape"
   ]
  },
  {
   "cell_type": "code",
   "execution_count": 74,
   "metadata": {},
   "outputs": [],
   "source": [
    "val_y = val_y.reshape(-1,1)"
   ]
  },
  {
   "cell_type": "code",
   "execution_count": 75,
   "metadata": {},
   "outputs": [
    {
     "data": {
      "text/plain": [
       "(234650, 1)"
      ]
     },
     "execution_count": 75,
     "metadata": {},
     "output_type": "execute_result"
    }
   ],
   "source": [
    "val_y.shape"
   ]
  },
  {
   "cell_type": "markdown",
   "metadata": {},
   "source": [
    "### Model 1 for Prediciton"
   ]
  },
  {
   "cell_type": "code",
   "execution_count": 76,
   "metadata": {},
   "outputs": [
    {
     "data": {
      "text/plain": [
       "10"
      ]
     },
     "execution_count": 76,
     "metadata": {},
     "output_type": "execute_result"
    }
   ],
   "source": [
    "input_features = train_x.shape[1]\n",
    "input_features"
   ]
  },
  {
   "cell_type": "markdown",
   "metadata": {},
   "source": [
    "#### Creating Model"
   ]
  },
  {
   "cell_type": "markdown",
   "metadata": {},
   "source": []
  },
  {
   "cell_type": "code",
   "execution_count": 77,
   "metadata": {},
   "outputs": [
    {
     "name": "stdout",
     "output_type": "stream",
     "text": [
      "Sequential Model:\n",
      "Layer 1: Linear\n",
      "  Weights: (64, 10)\n",
      "  Bias: (64,)\n",
      "Layer 2: ReLU\n",
      "Layer 3: Linear\n",
      "  Weights: (32, 64)\n",
      "  Bias: (32,)\n",
      "Layer 4: ReLU\n",
      "Layer 5: Linear\n",
      "  Weights: (1, 32)\n",
      "  Bias: (1,)\n",
      "\n"
     ]
    }
   ],
   "source": [
    "model_taxi_1 = Sequential()\n",
    "model_taxi_1.add(Linear(input_features, 64))\n",
    "model_taxi_1.add(ReLU())\n",
    "model_taxi_1.add(Linear(64,32))\n",
    "model_taxi_1.add(ReLU())\n",
    "model_taxi_1.add(Linear(32,1))\n",
    "\n",
    "print(model_taxi_1)\n"
   ]
  },
  {
   "cell_type": "markdown",
   "metadata": {},
   "source": [
    "#### Loss functions"
   ]
  },
  {
   "cell_type": "code",
   "execution_count": 78,
   "metadata": {},
   "outputs": [],
   "source": [
    "def msle(y_true, y_pred):\n",
    "    diff = np.log1p(y_true) - np.log1p(y_pred)\n",
    "    return np.mean(diff ** 2)\n",
    "\n",
    "def msle_gradient(y_true, y_pred):\n",
    "    n = len(y_true)\n",
    "    grad = 2 * (np.log1p(y_pred) - np.log1p(y_true)) / (1 + y_pred) / n\n",
    "    return grad"
   ]
  },
  {
   "cell_type": "markdown",
   "metadata": {},
   "source": [
    "#### Train Model"
   ]
  },
  {
   "cell_type": "code",
   "execution_count": 79,
   "metadata": {},
   "outputs": [],
   "source": [
    "\n",
    "\n",
    "def train_model(model, x_train, y_train, x_val, y_val, epochs=100, batch_size=64, learning_rate=0.01, patience=3):\n",
    "    num_samples = x_train.shape[0]\n",
    "    \n",
    "    best_loss = float('inf')\n",
    "    p_count = 0\n",
    "    epoch_loss = 0\n",
    "    num_batches = 0\n",
    "    \n",
    "    train_loss_history = []\n",
    "    val_loss_history = []\n",
    "\n",
    "    for epoch in range(epochs):\n",
    "        rand_idxs = np.random.permutation(len(x_train))\n",
    "        x_train = x_train[rand_idxs]\n",
    "        y_train = y_train[rand_idxs]\n",
    "        \n",
    "        for i in range(0, num_samples, batch_size):\n",
    "            end_idx = min(i+batch_size, num_samples)\n",
    "            \n",
    "            batch_x = x_train[i:end_idx]\n",
    "            batch_y = y_train[i:end_idx].reshape(-1,1)\n",
    "            \n",
    "            # forwards pass\n",
    "            y_pred = model.forward(batch_x)\n",
    "            \n",
    "            # loss\n",
    "            msle_loss = msle(batch_y,y_pred)\n",
    "            \n",
    "            epoch_loss += msle_loss\n",
    "            num_batches+=1\n",
    "            \n",
    "            \n",
    "            gradients = msle_gradient(batch_y, y_pred)\n",
    "\n",
    "            # backprop\n",
    "            model.backward(gradients)\n",
    "            \n",
    "            # params update\n",
    "            for layer in model.layers:\n",
    "                if hasattr(layer, 'weights'):\n",
    "                    layer.weights -= learning_rate * layer.grad_weights\n",
    "                    layer.bias -= learning_rate * layer.grad_bias\n",
    "        \n",
    "        # Epoch loss by batch            \n",
    "        avg_train_loss = epoch_loss /num_batches\n",
    "        train_loss_history.append(avg_train_loss)\n",
    "        \n",
    "        val_pred = model.forward(x_val)\n",
    "   \n",
    "        \n",
    "        \n",
    "        val_loss = msle(y_val,val_pred)\n",
    "        \n",
    "        val_loss_history.append(val_loss)    \n",
    "            \n",
    "\n",
    "        if (epoch + 1) % 10 == 0:\n",
    "            print(f\"Epoch [{epoch + 1}/{epochs}], Loss: {epoch_loss:.5f}, Val Loss: {val_loss:.5f}\")\n",
    "\n",
    "        # Early stopping\n",
    "        if val_loss < best_loss:\n",
    "            best_loss = val_loss\n",
    "            p_count = 0\n",
    "        else:\n",
    "            p_count += 1\n",
    "\n",
    "        if p_count >= patience:\n",
    "            print(f\"Early stopping at epoch {epoch+1}.\")\n",
    "            break\n",
    "    plt.plot(train_loss_history, label='Training Loss')\n",
    "    plt.plot(val_loss_history, label='Validation Loss')\n",
    "    plt.xlabel('Epochs')\n",
    "    plt.ylabel('Loss')\n",
    "    plt.legend()\n",
    "    plt.title('Training and Validation Loss')\n",
    "    plt.show()\n"
   ]
  },
  {
   "cell_type": "code",
   "execution_count": 80,
   "metadata": {},
   "outputs": [
    {
     "data": {
      "text/plain": [
       "((938596, 10), (938596, 1), (234650, 10), (234650, 1))"
      ]
     },
     "execution_count": 80,
     "metadata": {},
     "output_type": "execute_result"
    }
   ],
   "source": [
    "train_x.shape, train_y.shape, val_x.shape, val_y.shape"
   ]
  },
  {
   "cell_type": "markdown",
   "metadata": {},
   "source": [
    "## Results"
   ]
  },
  {
   "cell_type": "markdown",
   "metadata": {},
   "source": []
  },
  {
   "cell_type": "markdown",
   "metadata": {},
   "source": [
    "### Model 1"
   ]
  },
  {
   "cell_type": "code",
   "execution_count": 81,
   "metadata": {},
   "outputs": [
    {
     "name": "stdout",
     "output_type": "stream",
     "text": [
      "Epoch [10/100], Loss: 18267.52943, Val Loss: 0.19326\n",
      "Epoch [20/100], Loss: 32341.54260, Val Loss: 0.19116\n",
      "Epoch [30/100], Loss: 46274.35215, Val Loss: 0.18883\n",
      "Epoch [40/100], Loss: 59975.32680, Val Loss: 0.18475\n",
      "Epoch [50/100], Loss: 73333.42044, Val Loss: 0.17975\n",
      "Epoch [60/100], Loss: 86362.49313, Val Loss: 0.17584\n",
      "Epoch [70/100], Loss: 99132.29926, Val Loss: 0.17245\n",
      "Epoch [80/100], Loss: 111654.44218, Val Loss: 0.16912\n",
      "Epoch [90/100], Loss: 123940.24131, Val Loss: 0.16605\n",
      "Epoch [100/100], Loss: 136013.61825, Val Loss: 0.16343\n"
     ]
    },
    {
     "data": {
      "image/png": "[encoded data removed]",
      "text/plain": [
       "<Figure size 640x480 with 1 Axes>"
      ]
     },
     "metadata": {},
     "output_type": "display_data"
    }
   ],
   "source": [
    "train_model(model_taxi_1, train_x, train_y, val_x, val_y, epochs=100, batch_size=128, learning_rate=0.01, patience=3)"
   ]
  },
  {
   "cell_type": "code",
   "execution_count": 97,
   "metadata": {},
   "outputs": [],
   "source": [
    "def evaluate_model(model, X_test, y_test):\n",
    "    y_pred = model.forward(X_test)  # Get predictions\n",
    "    rsmle_loss = mean_squared_log_error(y_test,y_pred)  # Compute MSLE\n",
    "    print(f\"Test MSLE: {rsmle_loss:.4f}\")\n",
    "    return rsmle_loss"
   ]
  },
  {
   "cell_type": "code",
   "execution_count": 102,
   "metadata": {},
   "outputs": [
    {
     "name": "stdout",
     "output_type": "stream",
     "text": [
      "Test MSLE: 0.1647\n"
     ]
    }
   ],
   "source": [
    "rsmle_model_1 = evaluate_model(model_taxi_1, x_test_processed,y_test)\n"
   ]
  },
  {
   "cell_type": "markdown",
   "metadata": {},
   "source": [
    "### Model 2"
   ]
  },
  {
   "cell_type": "code",
   "execution_count": 113,
   "metadata": {},
   "outputs": [],
   "source": [
    "model_taxi_2 = Sequential()\n",
    "model_taxi_2.add(Linear(input_features, 128))\n",
    "model_taxi_2.add(ReLU())\n",
    "model_taxi_2.add(Linear(128, 64))\n",
    "model_taxi_2.add(ReLU())\n",
    "model_taxi_2.add(Linear(64, 32))\n",
    "model_taxi_2.add(ReLU())\n",
    "model_taxi_2.add(Linear(32, 1))"
   ]
  },
  {
   "cell_type": "code",
   "execution_count": 114,
   "metadata": {},
   "outputs": [
    {
     "name": "stdout",
     "output_type": "stream",
     "text": [
      "Epoch [10/50], Loss: 23042.89023, Val Loss: 0.13297\n",
      "Epoch [20/50], Loss: 41365.29530, Val Loss: 0.12608\n",
      "Epoch [30/50], Loss: 58850.95567, Val Loss: 0.11967\n",
      "Early stopping at epoch 34.\n"
     ]
    },
    {
     "data": {
      "image/png": "[encoded data removed]",
      "text/plain": [
       "<Figure size 640x480 with 1 Axes>"
      ]
     },
     "metadata": {},
     "output_type": "display_data"
    }
   ],
   "source": [
    "train_model(model_taxi_2, train_x, train_y, val_x, val_y, epochs=50, batch_size=64, learning_rate=0.05, patience=3)"
   ]
  },
  {
   "cell_type": "code",
   "execution_count": 116,
   "metadata": {},
   "outputs": [
    {
     "name": "stdout",
     "output_type": "stream",
     "text": [
      "Test MSLE: 0.1192\n"
     ]
    }
   ],
   "source": [
    "rsmle_model_2 = evaluate_model(model_taxi_2, x_test_processed,y_test)\n"
   ]
  },
  {
   "cell_type": "markdown",
   "metadata": {},
   "source": [
    "### Model 3"
   ]
  },
  {
   "cell_type": "code",
   "execution_count": 117,
   "metadata": {},
   "outputs": [],
   "source": [
    "model_taxi_3 = Sequential()\n",
    "model_taxi_3.add(Linear(input_features, 256))\n",
    "model_taxi_3.add(ReLU())\n",
    "model_taxi_3.add(Linear(256, 128))\n",
    "model_taxi_3.add(ReLU())\n",
    "model_taxi_3.add(Linear(128, 64))\n",
    "model_taxi_3.add(ReLU())\n",
    "model_taxi_3.add(Linear(64, 32))\n",
    "model_taxi_3.add(ReLU())\n",
    "model_taxi_3.add(Linear(32, 1))\n"
   ]
  },
  {
   "cell_type": "code",
   "execution_count": 118,
   "metadata": {},
   "outputs": [
    {
     "name": "stdout",
     "output_type": "stream",
     "text": [
      "Epoch [10/50], Loss: 40761.09516, Val Loss: 0.19550\n",
      "Epoch [20/50], Loss: 68490.78495, Val Loss: 0.18360\n",
      "Epoch [30/50], Loss: 94658.55552, Val Loss: 0.17354\n",
      "Epoch [40/50], Loss: 119481.25899, Val Loss: 0.16554\n",
      "Epoch [50/50], Loss: 143317.06320, Val Loss: 0.16016\n"
     ]
    },
    {
     "data": {
      "image/png": "[encoded data removed]",
      "text/plain": [
       "<Figure size 640x480 with 1 Axes>"
      ]
     },
     "metadata": {},
     "output_type": "display_data"
    }
   ],
   "source": [
    "train_model(model_taxi_3, train_x, train_y, val_x, val_y, epochs=50, batch_size=64, learning_rate=0.001, patience=3)"
   ]
  },
  {
   "cell_type": "markdown",
   "metadata": {},
   "source": []
  },
  {
   "cell_type": "code",
   "execution_count": 119,
   "metadata": {},
   "outputs": [
    {
     "name": "stdout",
     "output_type": "stream",
     "text": [
      "Test MSLE: 0.1615\n"
     ]
    }
   ],
   "source": [
    "rsmle_model_3 = evaluate_model(model_taxi_3, x_test_processed,y_test)\n"
   ]
  },
  {
   "cell_type": "markdown",
   "metadata": {},
   "source": [
    "## Comparisons"
   ]
  },
  {
   "cell_type": "markdown",
   "metadata": {},
   "source": [
    "Based on the 3 configurations, Model 2 performed better."
   ]
  },
  {
   "cell_type": "markdown",
   "metadata": {},
   "source": []
  }
 ],
 "metadata": {
  "kernelspec": {
   "display_name": "cse-5368",
   "language": "python",
   "name": "python3"
  },
  "language_info": {
   "codemirror_mode": {
    "name": "ipython",
    "version": 3
   },
   "file_extension": ".py",
   "mimetype": "text/x-python",
   "name": "python",
   "nbconvert_exporter": "python",
   "pygments_lexer": "ipython3",
   "version": "3.12.3"
  }
 },
 "nbformat": 4,
 "nbformat_minor": 2
}
