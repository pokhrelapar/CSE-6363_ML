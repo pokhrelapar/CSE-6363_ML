{
 "cells": [
  {
   "cell_type": "code",
   "execution_count": 1,
   "metadata": {},
   "outputs": [],
   "source": [
    "import numpy as np\n",
    "import matplotlib.pyplot as plt\n",
    "from abc import ABC, abstractmethod\n",
    "import os\n",
    "\n",
    "import warnings\n",
    "warnings.filterwarnings('ignore')\n",
    "\n"
   ]
  },
  {
   "cell_type": "markdown",
   "metadata": {},
   "source": [
    "## Class Files"
   ]
  },
  {
   "cell_type": "code",
   "execution_count": 1,
   "metadata": {},
   "outputs": [],
   "source": [
    "from classes import Layer, Linear, Sequential, Sigmoid, Tanh, ReLU, BinaryCrossEntropyLoss\n",
    "\n"
   ]
  },
  {
   "cell_type": "markdown",
   "metadata": {},
   "source": [
    "## XOR Dataset"
   ]
  },
  {
   "cell_type": "code",
   "execution_count": 3,
   "metadata": {},
   "outputs": [
    {
     "name": "stdout",
     "output_type": "stream",
     "text": [
      "(4, 2)\n",
      "(4, 1)\n"
     ]
    },
    {
     "data": {
      "image/png": "[encoded data removed]",
      "text/plain": [
       "<Figure size 640x480 with 1 Axes>"
      ]
     },
     "metadata": {},
     "output_type": "display_data"
    }
   ],
   "source": [
    "# Define the XOR dataset\n",
    "X = np.array([[0, 0], [0, 1], [1, 0], [1, 1]])  # Inputs\n",
    "targets = np.array([[0], [1], [1], [0]])             # Outputs (labels)\n",
    "\n",
    "\n",
    "print(X.shape)\n",
    "print(targets.shape)\n",
    "\n",
    "\n",
    "fig = plt.figure()\n",
    "ax = fig.add_subplot(111)\n",
    "ax.scatter(X[:, 0], X[:, 1], c=targets)\n",
    "ax.grid(True)\n",
    "\n"
   ]
  },
  {
   "cell_type": "markdown",
   "metadata": {},
   "source": [
    "### XOR model with Sigmoid Activation"
   ]
  },
  {
   "cell_type": "code",
   "execution_count": 4,
   "metadata": {},
   "outputs": [
    {
     "name": "stdout",
     "output_type": "stream",
     "text": [
      "Sequential Model:\n",
      "Layer 1: Linear\n",
      "  Weights: (2, 2)\n",
      "  Bias: (2,)\n",
      "Layer 2: Sigmoid\n",
      "Layer 3: Linear\n",
      "  Weights: (1, 2)\n",
      "  Bias: (1,)\n",
      "Layer 4: Sigmoid\n",
      "\n"
     ]
    }
   ],
   "source": [
    "xor_model = Sequential()\n",
    "xor_model.add(Linear(2,2))\n",
    "xor_model.add(Sigmoid())\n",
    "xor_model.add(Linear(2,1))\n",
    "xor_model.add(Sigmoid())\n",
    "\n",
    "print(xor_model)\n"
   ]
  },
  {
   "cell_type": "markdown",
   "metadata": {},
   "source": [
    "#### Train XOR model"
   ]
  },
  {
   "cell_type": "code",
   "execution_count": 5,
   "metadata": {},
   "outputs": [],
   "source": [
    "def train_model(model, X, y, learning_rate=0.01, epochs=10000, verbose=False):\n",
    "\n",
    "    loss_metric = BinaryCrossEntropyLoss()\n",
    "\n",
    "    epoch_loss = []\n",
    "\n",
    "    for epoch in range(epochs):\n",
    "        # Forward pass\n",
    "        y_pred = model.forward(X)\n",
    "\n",
    "        # Compute loss\n",
    "        loss = loss_metric.forward(y_pred, y)\n",
    "\n",
    "        # Backward pass\n",
    "        gradients = loss_metric.backward()\n",
    "\n",
    "        model.backward(gradients)\n",
    "\n",
    "        # Update weights\n",
    "        for layer in model.layers:\n",
    "            if hasattr(layer, 'weights'):\n",
    "                layer.weights -= learning_rate * layer.grad_weights\n",
    "                layer.bias -= learning_rate * layer.grad_bias\n",
    "\n",
    "\n",
    "    return model\n"
   ]
  },
  {
   "cell_type": "code",
   "execution_count": 6,
   "metadata": {},
   "outputs": [
    {
     "name": "stdout",
     "output_type": "stream",
     "text": [
      "Sequential Model:\n",
      "Layer 1: Linear\n",
      "  Weights: (2, 2)\n",
      "  Bias: (2,)\n",
      "Layer 2: Sigmoid\n",
      "Layer 3: Linear\n",
      "  Weights: (1, 2)\n",
      "  Bias: (1,)\n",
      "Layer 4: Sigmoid\n",
      "\n"
     ]
    }
   ],
   "source": [
    "xor_model = train_model(xor_model, X,targets)\n",
    "\n",
    "print(xor_model)\n"
   ]
  },
  {
   "cell_type": "markdown",
   "metadata": {},
   "source": [
    "#### Evaluating XOR model"
   ]
  },
  {
   "cell_type": "code",
   "execution_count": 7,
   "metadata": {},
   "outputs": [
    {
     "name": "stdout",
     "output_type": "stream",
     "text": [
      "Input:\n",
      " [[0 0]\n",
      " [0 1]\n",
      " [1 0]\n",
      " [1 1]]\n",
      "Predicted Output:\n",
      " [[0.11595409]\n",
      " [0.82691358]\n",
      " [0.91845026]\n",
      " [0.09407252]]\n",
      "Classified Output (Thresholded):\n",
      " [[0]\n",
      " [1]\n",
      " [1]\n",
      " [0]]\n",
      "Ground Truth:\n",
      " [[0]\n",
      " [1]\n",
      " [1]\n",
      " [0]]\n",
      "Accuracy: 100.00%\n"
     ]
    }
   ],
   "source": [
    "\n",
    "\n",
    "y_pred = xor_model.forward(X)\n",
    "y_pred_class = (y_pred >= 0.5).astype(int)\n",
    "\n",
    "\n",
    "# Print predictions and ground truth\n",
    "print(\"Input:\\n\", X)\n",
    "print(\"Predicted Output:\\n\", y_pred)\n",
    "\n",
    "print(\"Classified Output (Thresholded):\\n\", y_pred_class)\n",
    "print(\"Ground Truth:\\n\", targets)\n",
    "\n",
    "\n",
    "# Compute accuracy\n",
    "accuracy = np.mean(y_pred_class == targets) * 100\n",
    "print(f\"Accuracy: {accuracy:.2f}%\")\n"
   ]
  },
  {
   "cell_type": "markdown",
   "metadata": {},
   "source": [
    "#### Saving model weights"
   ]
  },
  {
   "cell_type": "code",
   "execution_count": 8,
   "metadata": {},
   "outputs": [],
   "source": [
    "xor_model.save('XOR_solved.w')"
   ]
  },
  {
   "cell_type": "markdown",
   "metadata": {},
   "source": [
    "#### Decision Boundaries "
   ]
  },
  {
   "cell_type": "code",
   "execution_count": 9,
   "metadata": {},
   "outputs": [],
   "source": [
    "\n",
    "def calc_decision_boundary(weights):\n",
    "    x = -weights[0] / weights[1]\n",
    "    y = -weights[0] / weights[2]\n",
    "    m = -y / x\n",
    "    return np.array([m, y])\n",
    "\n",
    "def gen_boundary_points(weights, m, b):\n",
    "    # If the slope is undefined, it is vertical.\n",
    "    if weights[2] != 0:\n",
    "        x = np.linspace(-5, 5, 100)\n",
    "        y = m * x + b\n",
    "    else:\n",
    "        x = np.zeros(100)\n",
    "        y = np.linspace(-5, 5, 100) + b\n",
    "\n",
    "    return x, y"
   ]
  },
  {
   "cell_type": "code",
   "execution_count": 10,
   "metadata": {},
   "outputs": [
    {
     "name": "stdout",
     "output_type": "stream",
     "text": [
      "------Node 1------\n",
      "\n",
      "[[ 4.94268822 -5.14661454]\n",
      " [ 4.05769988 -3.76108742]]\n",
      "[-2.89656449  1.77869006]\n",
      "\n",
      "-----Node 2-------\n",
      "\n",
      "[[ 6.25077212 -5.3375513 ]]\n",
      "------\n",
      "[2.20808425]\n"
     ]
    }
   ],
   "source": [
    "# Extract weights and biases\n",
    "hidden_layer = xor_model.layers[0]  # First Linear layer\n",
    "output_layer = xor_model.layers[2]  # Second Linear layer\n",
    "\n",
    "# Get weights and biases for hidden and output layers\n",
    "print(\"------Node 1------\\n\")\n",
    "hidden_weights = hidden_layer.weights\n",
    "print(hidden_weights)\n",
    "\n",
    "hidden_biases = hidden_layer.bias\n",
    "print(hidden_biases)\n",
    "\n",
    "print(\"\\n-----Node 2-------\\n\")\n",
    "output_weights = output_layer.weights\n",
    "print(output_weights)\n",
    "\n",
    "print(\"------\")\n",
    "output_biases = output_layer.bias\n",
    "print(output_biases)\n"
   ]
  },
  {
   "cell_type": "code",
   "execution_count": 11,
   "metadata": {},
   "outputs": [
    {
     "name": "stdout",
     "output_type": "stream",
     "text": [
      "[[-2.89656449  4.94268822 -5.14661454]\n",
      " [ 1.77869006  4.05769988 -3.76108742]]\n"
     ]
    }
   ],
   "source": [
    "# Extract weights and biases\n",
    "hidden_weights = xor_model.layers[0].weights  # Layer 1 weights\n",
    "hidden_bias = xor_model.layers[0].bias       # Layer 1 bias\n",
    "\n",
    "hidden_params = np.hstack((hidden_bias.reshape(-1, 1), hidden_weights))\n",
    "\n",
    "print(hidden_params)\n",
    "\n",
    "# Weight matrix has shape [w0 w1 w2]"
   ]
  },
  {
   "cell_type": "markdown",
   "metadata": {},
   "source": [
    "#### Displaying Decision Boundary"
   ]
  },
  {
   "cell_type": "code",
   "execution_count": 12,
   "metadata": {},
   "outputs": [
    {
     "data": {
      "image/png": "[encoded data removed]",
      "text/plain": [
       "<Figure size 800x600 with 1 Axes>"
      ]
     },
     "metadata": {},
     "output_type": "display_data"
    }
   ],
   "source": [
    "\n",
    "# Calculate decision boundary for each hidden node\n",
    "hidden_m0, hidden_b0 = calc_decision_boundary(hidden_params[0])\n",
    "hidden_x0, hidden_y0 = gen_boundary_points(hidden_params[0], hidden_m0, hidden_b0)\n",
    "hidden_m1, hidden_b1 = calc_decision_boundary(hidden_params[1])\n",
    "hidden_x1, hidden_y1 = gen_boundary_points(hidden_params[1], hidden_m1, hidden_b1)\n",
    "\n",
    "\n",
    "X = np.array([[0, 0], [0, 1], [1, 0], [1, 1]])\n",
    "y = np.array([[0], [1], [1], [0]])\n",
    "\n",
    "# Visualize input space and decision boundaries\n",
    "plt.figure(figsize=(8, 6))\n",
    "plt.title(\"Decision Boundaries(Sigmoid Activation)\")\n",
    "plt.plot(hidden_x0, hidden_y0, c='g', label=\"Hidden Node 1\")\n",
    "plt.plot(hidden_x1, hidden_y1, c='b', label=\"Hidden Node 2\")\n",
    "plt.scatter(X[:, 0], X[:, 1], c=y.flatten())\n",
    "plt.legend()\n",
    "plt.xlim([-0.2, 1.2])\n",
    "plt.ylim([-0.2, 1.2])\n",
    "plt.xlabel(\"X1\")\n",
    "plt.ylabel(\"X2\")\n",
    "plt.grid(True)\n",
    "plt.show()\n"
   ]
  },
  {
   "cell_type": "markdown",
   "metadata": {},
   "source": [
    "### XOR model with Tanh Activation"
   ]
  },
  {
   "cell_type": "code",
   "execution_count": 2,
   "metadata": {},
   "outputs": [
    {
     "name": "stdout",
     "output_type": "stream",
     "text": [
      "Sequential Model:\n",
      "Layer 1: Linear\n",
      "  Weights: (2, 2)\n",
      "  Bias: (2,)\n",
      "Layer 2: Tanh\n",
      "Layer 3: Linear\n",
      "  Weights: (1, 2)\n",
      "  Bias: (1,)\n",
      "Layer 4: Sigmoid\n",
      "\n"
     ]
    }
   ],
   "source": [
    "xor_model_t = Sequential()\n",
    "xor_model_t.add(Linear(2,2))\n",
    "xor_model_t.add(Tanh())\n",
    "xor_model_t.add(Linear(2,1))\n",
    "xor_model_t.add(Sigmoid())\n",
    "\n",
    "print(xor_model_t)"
   ]
  },
  {
   "cell_type": "markdown",
   "metadata": {},
   "source": [
    "#### Train XOR Model"
   ]
  },
  {
   "cell_type": "code",
   "execution_count": 75,
   "metadata": {},
   "outputs": [
    {
     "name": "stdout",
     "output_type": "stream",
     "text": [
      "Sequential Model:\n",
      "Layer 1: Linear\n",
      "  Weights: (2, 2)\n",
      "  Bias: (2,)\n",
      "Layer 2: Tanh\n",
      "Layer 3: Linear\n",
      "  Weights: (1, 2)\n",
      "  Bias: (1,)\n",
      "Layer 4: Sigmoid\n",
      "\n",
      "Input:\n",
      " [[0 0]\n",
      " [0 1]\n",
      " [1 0]\n",
      " [1 1]]\n",
      "Predicted Output:\n",
      " [[0.00758442]\n",
      " [0.98674468]\n",
      " [0.98688267]\n",
      " [0.00643798]]\n",
      "Classified Output (Thresholded):\n",
      " [[0]\n",
      " [1]\n",
      " [1]\n",
      " [0]]\n",
      "Ground Truth:\n",
      " [[0]\n",
      " [1]\n",
      " [1]\n",
      " [0]]\n",
      "Accuracy: 100.00%\n"
     ]
    }
   ],
   "source": [
    "xor_model_t = train_model(xor_model_t, X,targets)\n",
    "print(xor_model_t)\n",
    "\n",
    "y_pred = xor_model_t.forward(X)\n",
    "y_pred_class = (y_pred >= 0.5).astype(int)\n",
    "\n",
    "\n",
    "# Print predictions and ground truth\n",
    "print(\"Input:\\n\", X)\n",
    "print(\"Predicted Output:\\n\", y_pred)\n",
    "print(\"Classified Output (Thresholded):\\n\", y_pred_class)\n",
    "print(\"Ground Truth:\\n\", targets)\n",
    "\n",
    "\n",
    "# Compute accuracy\n",
    "accuracy = np.mean(y_pred_class == targets) * 100\n",
    "\n",
    "\n",
    "\n",
    "print(f\"Accuracy: {accuracy:.2f}%\")\n"
   ]
  },
  {
   "cell_type": "markdown",
   "metadata": {},
   "source": [
    "#### Saving model weights"
   ]
  },
  {
   "cell_type": "code",
   "execution_count": 76,
   "metadata": {},
   "outputs": [],
   "source": [
    "xor_model_t.save('XOR_solved_tanh.w')"
   ]
  },
  {
   "cell_type": "markdown",
   "metadata": {},
   "source": [
    "#### Decision Boundaries"
   ]
  },
  {
   "cell_type": "code",
   "execution_count": 77,
   "metadata": {},
   "outputs": [
    {
     "name": "stdout",
     "output_type": "stream",
     "text": [
      "------Node 1------\n",
      "\n",
      "[[-3.30495446  3.17292186]\n",
      " [-3.40514406  3.49230361]]\n",
      "[-1.51301737  1.647013  ]\n",
      "\n",
      "-----Node 2-------\n",
      "\n",
      "[[ 5.19882305 -5.17175648]]\n",
      "------\n",
      "[4.64544581]\n"
     ]
    }
   ],
   "source": [
    "# Extract weights and biases\n",
    "hidden_layer_1 = xor_model_t.layers[0]  # First Linear layer\n",
    "output_layer_1 = xor_model_t.layers[2]  # Second Linear layer\n",
    "\n",
    "# Get weights and biases for hidden and output layers\n",
    "print(\"------Node 1------\\n\")\n",
    "hidden_weights = hidden_layer_1.weights\n",
    "print(hidden_weights)\n",
    "\n",
    "hidden_biases = hidden_layer_1.bias\n",
    "print(hidden_biases)\n",
    "\n",
    "print(\"\\n-----Node 2-------\\n\")\n",
    "output_weights = output_layer_1.weights\n",
    "print(output_weights)\n",
    "\n",
    "print(\"------\")\n",
    "output_biases = output_layer_1.bias\n",
    "print(output_biases)"
   ]
  },
  {
   "cell_type": "code",
   "execution_count": 78,
   "metadata": {},
   "outputs": [
    {
     "name": "stdout",
     "output_type": "stream",
     "text": [
      "[[-1.51301737 -3.30495446  3.17292186]\n",
      " [ 1.647013   -3.40514406  3.49230361]]\n"
     ]
    }
   ],
   "source": [
    "# Extract weights and biases\n",
    "hidden_weights = xor_model_t.layers[0].weights  # Layer 1 weights\n",
    "hidden_bias = xor_model_t.layers[0].bias       # Layer 1 bias\n",
    "\n",
    "hidden_params = np.hstack((hidden_bias.reshape(-1, 1), hidden_weights))\n",
    "\n",
    "\n",
    "print(hidden_params)\n",
    "\n",
    "# Weight matrix has shape [w0 w1 w2]"
   ]
  },
  {
   "cell_type": "markdown",
   "metadata": {},
   "source": [
    "#### Dipslaying Decision Boundaries"
   ]
  },
  {
   "cell_type": "code",
   "execution_count": 79,
   "metadata": {},
   "outputs": [
    {
     "data": {
      "image/png": "[encoded data removed]",
      "text/plain": [
       "<Figure size 800x600 with 1 Axes>"
      ]
     },
     "metadata": {},
     "output_type": "display_data"
    }
   ],
   "source": [
    "\n",
    "# Calculate decision boundary for each hidden node\n",
    "hidden_m0, hidden_b0 = calc_decision_boundary(hidden_params[0])\n",
    "hidden_x0, hidden_y0 = gen_boundary_points(hidden_params[0], hidden_m0, hidden_b0)\n",
    "hidden_m1, hidden_b1 = calc_decision_boundary(hidden_params[1])\n",
    "hidden_x1, hidden_y1 = gen_boundary_points(hidden_params[1], hidden_m1, hidden_b1)\n",
    "\n",
    "\n",
    "X = np.array([[0, 0], [0, 1], [1, 0], [1, 1]])\n",
    "y = np.array([[0], [1], [1], [0]])\n",
    "\n",
    "# Visualize input space and decision boundaries\n",
    "plt.figure(figsize=(8, 6))\n",
    "plt.title(\"Decision Boundaries (Tanh Activation)\")\n",
    "plt.plot(hidden_x0, hidden_y0, c='g', label=\"Hidden Node 1\")\n",
    "plt.plot(hidden_x1, hidden_y1, c='b', label=\"Hidden Node 2\")\n",
    "plt.scatter(X[:, 0], X[:, 1], c=y.flatten())\n",
    "plt.legend()\n",
    "plt.xlim([-0.2, 1.2])\n",
    "plt.ylim([-0.2, 1.2])\n",
    "plt.xlabel(\"X1\")\n",
    "plt.ylabel(\"X2\")\n",
    "plt.grid(True)\n",
    "plt.show()\n"
   ]
  },
  {
   "cell_type": "code",
   "execution_count": null,
   "metadata": {},
   "outputs": [],
   "source": []
  }
 ],
 "metadata": {
  "kernelspec": {
   "display_name": "cse-5368",
   "language": "python",
   "name": "python3"
  },
  "language_info": {
   "codemirror_mode": {
    "name": "ipython",
    "version": 3
   },
   "file_extension": ".py",
   "mimetype": "text/x-python",
   "name": "python",
   "nbconvert_exporter": "python",
   "pygments_lexer": "ipython3",
   "version": "3.12.3"
  }
 },
 "nbformat": 4,
 "nbformat_minor": 2
}
